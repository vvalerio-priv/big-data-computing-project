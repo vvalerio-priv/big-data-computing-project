{
 "cells": [
  {
   "cell_type": "markdown",
   "metadata": {
    "application/vnd.databricks.v1+cell": {
     "inputWidgets": {},
     "nuid": "c80169f3-71e3-4609-ac16-741f6146d378",
     "showTitle": false,
     "title": ""
    }
   },
   "source": [
    "https://app.diagrams.net/#G1kOLxSIqMuavf4peNEdkWelzKj6Rcp3nl"
   ]
  },
  {
   "cell_type": "markdown",
   "metadata": {
    "application/vnd.databricks.v1+cell": {
     "inputWidgets": {},
     "nuid": "528bdd80-57a0-43f1-b018-e1af2d06feda",
     "showTitle": false,
     "title": ""
    }
   },
   "source": [
    "# Install requirements"
   ]
  },
  {
   "cell_type": "code",
   "execution_count": 99,
   "metadata": {
    "application/vnd.databricks.v1+cell": {
     "inputWidgets": {},
     "nuid": "8e445ea0-b416-4239-9659-ac30bf89ebc7",
     "showTitle": false,
     "title": ""
    }
   },
   "outputs": [],
   "source": [
    "import sys\n",
    "import os\n",
    "\n",
    "!{sys.executable} -m pip install --upgrade pip\n",
    "!{sys.executable} -m pip install spotipy\n",
    "!{sys.executable} -m pip install ipywidgets\n",
    "!{sys.executable} -m pip install lyricsgenius\n",
    "!{sys.executable} -m pip install NRCLex\n",
    "\n",
    "isDatabricks = False"
   ]
  },
  {
   "cell_type": "markdown",
   "metadata": {},
   "source": [
    "# Imports"
   ]
  },
  {
   "cell_type": "code",
   "execution_count": 38,
   "metadata": {},
   "outputs": [
    {
     "name": "stderr",
     "output_type": "stream",
     "text": [
      "[nltk_data] Downloading package punkt to /home/valerio/nltk_data...\n",
      "[nltk_data]   Package punkt is already up-to-date!\n",
      "[nltk_data] Downloading package stopwords to\n",
      "[nltk_data]     /home/valerio/nltk_data...\n",
      "[nltk_data]   Package stopwords is already up-to-date!\n",
      "[nltk_data] Downloading package wordnet to /home/valerio/nltk_data...\n",
      "[nltk_data]   Package wordnet is already up-to-date!\n"
     ]
    }
   ],
   "source": [
    "from pyspark.sql import SparkSession\n",
    "from pyspark import SparkContext, SparkConf, SQLContext\n",
    "from pyspark.ml.feature import VectorAssembler\n",
    "from pyspark.ml.clustering import KMeans\n",
    "from pyspark.ml.evaluation import ClusteringEvaluator\n",
    "from pyspark.ml.feature import StandardScaler\n",
    "\n",
    "import spotipy\n",
    "from spotipy.oauth2 import SpotifyClientCredentials\n",
    "from spotipy.oauth2 import SpotifyOAuth\n",
    "import spotipy.util as util\n",
    "\n",
    "import multiprocessing\n",
    "from multiprocessing import Pool\n",
    "import pandas as pd\n",
    "import requests\n",
    "from urllib import request as urllib2\n",
    "import json\n",
    "from bs4 import BeautifulSoup\n",
    "import re\n",
    "import string\n",
    "\n",
    "import lyricsgenius\n",
    "from nrclex import NRCLex\n",
    "import nltk\n",
    "nltk.download('punkt')\n",
    "nltk.download('stopwords')\n",
    "from nltk.corpus import stopwords\n",
    "nltk.download('wordnet')\n",
    "from nltk.stem import WordNetLemmatizer\n",
    "\n",
    "from sklearn.metrics.pairwise import cosine_similarity\n",
    "\n",
    "import ipywidgets as widgets\n",
    "from ipywidgets import interact, interact_manual\n",
    "\n",
    "import uuid\n",
    "import time"
   ]
  },
  {
   "cell_type": "markdown",
   "metadata": {
    "application/vnd.databricks.v1+cell": {
     "inputWidgets": {},
     "nuid": "700b66f9-c614-4ae9-b820-c223475740f4",
     "showTitle": false,
     "title": ""
    }
   },
   "source": [
    "# Spotify connection"
   ]
  },
  {
   "cell_type": "code",
   "execution_count": 51,
   "metadata": {
    "application/vnd.databricks.v1+cell": {
     "inputWidgets": {},
     "nuid": "fb9278a2-7c8c-4ea4-b688-1a45a7747332",
     "showTitle": false,
     "title": ""
    }
   },
   "outputs": [],
   "source": [
    "os.environ[\"SPOTIPY_CLIENT_ID\"] = \"9434b51d2fde473384c68c79130534f1\"\n",
    "os.environ[\"SPOTIPY_CLIENT_SECRET\"] = \"371433b0726f4ede8bce202e9102f121\"\n",
    "os.environ[\"SPOTIPY_REDIRECT_URI\"] = \"https://developer.spotify.com/dashboard/applications/9434b51d2fde473384c68c79130534f1\"\n",
    "os.environ[\"SPOTIPY_CLIENT_USERNAME\"] = \"11154156130\"\n",
    "os.environ['PYSPARK_PYTHON']=sys.executable"
   ]
  },
  {
   "cell_type": "markdown",
   "metadata": {
    "application/vnd.databricks.v1+cell": {
     "inputWidgets": {},
     "nuid": "bd2521e0-2a44-42f9-93be-2644c28c5285",
     "showTitle": false,
     "title": ""
    }
   },
   "source": [
    "# Spark initialization"
   ]
  },
  {
   "cell_type": "code",
   "execution_count": 69,
   "metadata": {
    "application/vnd.databricks.v1+cell": {
     "inputWidgets": {},
     "nuid": "3f1aab2e-27c9-47b0-b388-3d1c7ab19a9b",
     "showTitle": false,
     "title": ""
    }
   },
   "outputs": [
    {
     "name": "stdout",
     "output_type": "stream",
     "text": [
      "BQBX0S5sXvopwBvP2QXsi8p0781nfQJYPEHqbyJg965xoiEfNIybDsNglLzW_xrVk7ZaQGeShCv--MD93U83MOHv742lIbkzRqfTt1HEPZ9ewRsYsLhF2QFBDZou9P9DSXe2ft4x7FLe5urIgcNqaioLtH5yrRf_s3CScZBuLLtjjWkRvvliV2aBubycT1MBlXYFVfiNP9mu9FJovMuSNcJlT_BNuQ\n"
     ]
    }
   ],
   "source": [
    "spark = SparkSession.builder.appName(\"BigData Project\").getOrCreate()\n",
    "sqlcontext = SQLContext(spark)\n",
    "\n",
    "client_id = \"9434b51d2fde473384c68c79130534f1\"\n",
    "client_secret = \"64ff22636db44b68992ef49b1c9eaaf4\"\n",
    "username = \"11154156130\"\n",
    "\n",
    "scope = \"playlist-modify-public playlist-modify-private playlist-read-private playlist-read-collaborative\"\n",
    "\n",
    "redirect_uri = \"https://developer.spotify.com/dashboard/applications/9434b51d2fde473384c68c79130534f1\"\n",
    "\n",
    "client_credentials_manager = SpotifyClientCredentials(client_id=client_id, client_secret=client_secret)\n",
    "\n",
    "sp = spotipy.Spotify(client_credentials_manager = client_credentials_manager)\n",
    "\n",
    "token = util.prompt_for_user_token(username, scope, client_id, client_secret, redirect_uri)\n",
    "print(token)\n",
    "if token:\n",
    "    sp = spotipy.Spotify(auth=token)\n",
    "else:\n",
    "    print(\"Can't get token for\", username)\n"
   ]
  },
  {
   "cell_type": "code",
   "execution_count": 53,
   "metadata": {
    "application/vnd.databricks.v1+cell": {
     "inputWidgets": {},
     "nuid": "1f29971f-1c78-422b-b7e8-5387fb9ee1d6",
     "showTitle": false,
     "title": ""
    }
   },
   "outputs": [
    {
     "data": {
      "text/html": [
       "\n",
       "            <div>\n",
       "                <p><b>SparkSession - in-memory</b></p>\n",
       "                \n",
       "        <div>\n",
       "            <p><b>SparkContext</b></p>\n",
       "\n",
       "            <p><a href=\"http://valerio.home:4042\">Spark UI</a></p>\n",
       "\n",
       "            <dl>\n",
       "              <dt>Version</dt>\n",
       "                <dd><code>v3.1.1</code></dd>\n",
       "              <dt>Master</dt>\n",
       "                <dd><code>local[*]</code></dd>\n",
       "              <dt>AppName</dt>\n",
       "                <dd><code>BigData Project</code></dd>\n",
       "            </dl>\n",
       "        </div>\n",
       "        \n",
       "            </div>\n",
       "        "
      ],
      "text/plain": [
       "<pyspark.sql.session.SparkSession at 0x7f76a3a0b7f0>"
      ]
     },
     "execution_count": 53,
     "metadata": {},
     "output_type": "execute_result"
    }
   ],
   "source": [
    "spark"
   ]
  },
  {
   "cell_type": "markdown",
   "metadata": {
    "application/vnd.databricks.v1+cell": {
     "inputWidgets": {},
     "nuid": "7057cb43-6eb9-4b58-a509-df97701c0fcf",
     "showTitle": false,
     "title": ""
    }
   },
   "source": [
    "# Grab spotify playlists and collect tracks information"
   ]
  },
  {
   "cell_type": "code",
   "execution_count": 5,
   "metadata": {
    "application/vnd.databricks.v1+cell": {
     "inputWidgets": {},
     "nuid": "565c5462-a863-4bc5-8fbb-dfcc896ac2cb",
     "showTitle": false,
     "title": ""
    }
   },
   "outputs": [
    {
     "ename": "KeyboardInterrupt",
     "evalue": "",
     "output_type": "error",
     "traceback": [
      "\u001b[0;31m---------------------------------------------------------------------------\u001b[0m",
      "\u001b[0;31mKeyboardInterrupt\u001b[0m                         Traceback (most recent call last)",
      "\u001b[0;32m<ipython-input-5-b0a9034e96f3>\u001b[0m in \u001b[0;36m<module>\u001b[0;34m\u001b[0m\n\u001b[0;32m----> 1\u001b[0;31m \u001b[0mplaylists\u001b[0m \u001b[0;34m=\u001b[0m \u001b[0msp\u001b[0m\u001b[0;34m.\u001b[0m\u001b[0muser_playlists\u001b[0m\u001b[0;34m(\u001b[0m\u001b[0;34m'spotify'\u001b[0m\u001b[0;34m)\u001b[0m\u001b[0;34m\u001b[0m\u001b[0;34m\u001b[0m\u001b[0m\n\u001b[0m\u001b[1;32m      2\u001b[0m \u001b[0mprint\u001b[0m\u001b[0;34m(\u001b[0m\u001b[0mplaylists\u001b[0m\u001b[0;34m)\u001b[0m\u001b[0;34m\u001b[0m\u001b[0;34m\u001b[0m\u001b[0m\n\u001b[1;32m      3\u001b[0m \u001b[0;34m\u001b[0m\u001b[0m\n\u001b[1;32m      4\u001b[0m \u001b[0mplaylist_ids\u001b[0m \u001b[0;34m=\u001b[0m \u001b[0;34m[\u001b[0m\u001b[0;34m]\u001b[0m\u001b[0;34m\u001b[0m\u001b[0;34m\u001b[0m\u001b[0m\n\u001b[1;32m      5\u001b[0m \u001b[0;32mwhile\u001b[0m \u001b[0mplaylists\u001b[0m\u001b[0;34m:\u001b[0m\u001b[0;34m\u001b[0m\u001b[0;34m\u001b[0m\u001b[0m\n",
      "\u001b[0;32m~/anaconda3/lib/python3.8/site-packages/spotipy/client.py\u001b[0m in \u001b[0;36muser_playlists\u001b[0;34m(self, user, limit, offset)\u001b[0m\n\u001b[1;32m    761\u001b[0m                 \u001b[0;34m-\u001b[0m \u001b[0moffset\u001b[0m \u001b[0;34m-\u001b[0m \u001b[0mthe\u001b[0m \u001b[0mindex\u001b[0m \u001b[0mof\u001b[0m \u001b[0mthe\u001b[0m \u001b[0mfirst\u001b[0m \u001b[0mitem\u001b[0m \u001b[0mto\u001b[0m \u001b[0;32mreturn\u001b[0m\u001b[0;34m\u001b[0m\u001b[0;34m\u001b[0m\u001b[0m\n\u001b[1;32m    762\u001b[0m         \"\"\"\n\u001b[0;32m--> 763\u001b[0;31m         return self._get(\n\u001b[0m\u001b[1;32m    764\u001b[0m             \u001b[0;34m\"users/%s/playlists\"\u001b[0m \u001b[0;34m%\u001b[0m \u001b[0muser\u001b[0m\u001b[0;34m,\u001b[0m \u001b[0mlimit\u001b[0m\u001b[0;34m=\u001b[0m\u001b[0mlimit\u001b[0m\u001b[0;34m,\u001b[0m \u001b[0moffset\u001b[0m\u001b[0;34m=\u001b[0m\u001b[0moffset\u001b[0m\u001b[0;34m\u001b[0m\u001b[0;34m\u001b[0m\u001b[0m\n\u001b[1;32m    765\u001b[0m         )\n",
      "\u001b[0;32m~/anaconda3/lib/python3.8/site-packages/spotipy/client.py\u001b[0m in \u001b[0;36m_get\u001b[0;34m(self, url, args, payload, **kwargs)\u001b[0m\n\u001b[1;32m    295\u001b[0m             \u001b[0mkwargs\u001b[0m\u001b[0;34m.\u001b[0m\u001b[0mupdate\u001b[0m\u001b[0;34m(\u001b[0m\u001b[0margs\u001b[0m\u001b[0;34m)\u001b[0m\u001b[0;34m\u001b[0m\u001b[0;34m\u001b[0m\u001b[0m\n\u001b[1;32m    296\u001b[0m \u001b[0;34m\u001b[0m\u001b[0m\n\u001b[0;32m--> 297\u001b[0;31m         \u001b[0;32mreturn\u001b[0m \u001b[0mself\u001b[0m\u001b[0;34m.\u001b[0m\u001b[0m_internal_call\u001b[0m\u001b[0;34m(\u001b[0m\u001b[0;34m\"GET\"\u001b[0m\u001b[0;34m,\u001b[0m \u001b[0murl\u001b[0m\u001b[0;34m,\u001b[0m \u001b[0mpayload\u001b[0m\u001b[0;34m,\u001b[0m \u001b[0mkwargs\u001b[0m\u001b[0;34m)\u001b[0m\u001b[0;34m\u001b[0m\u001b[0;34m\u001b[0m\u001b[0m\n\u001b[0m\u001b[1;32m    298\u001b[0m \u001b[0;34m\u001b[0m\u001b[0m\n\u001b[1;32m    299\u001b[0m     \u001b[0;32mdef\u001b[0m \u001b[0m_post\u001b[0m\u001b[0;34m(\u001b[0m\u001b[0mself\u001b[0m\u001b[0;34m,\u001b[0m \u001b[0murl\u001b[0m\u001b[0;34m,\u001b[0m \u001b[0margs\u001b[0m\u001b[0;34m=\u001b[0m\u001b[0;32mNone\u001b[0m\u001b[0;34m,\u001b[0m \u001b[0mpayload\u001b[0m\u001b[0;34m=\u001b[0m\u001b[0;32mNone\u001b[0m\u001b[0;34m,\u001b[0m \u001b[0;34m**\u001b[0m\u001b[0mkwargs\u001b[0m\u001b[0;34m)\u001b[0m\u001b[0;34m:\u001b[0m\u001b[0;34m\u001b[0m\u001b[0;34m\u001b[0m\u001b[0m\n",
      "\u001b[0;32m~/anaconda3/lib/python3.8/site-packages/spotipy/client.py\u001b[0m in \u001b[0;36m_internal_call\u001b[0;34m(self, method, url, payload, params)\u001b[0m\n\u001b[1;32m    238\u001b[0m \u001b[0;34m\u001b[0m\u001b[0m\n\u001b[1;32m    239\u001b[0m         \u001b[0;32mtry\u001b[0m\u001b[0;34m:\u001b[0m\u001b[0;34m\u001b[0m\u001b[0;34m\u001b[0m\u001b[0m\n\u001b[0;32m--> 240\u001b[0;31m             response = self._session.request(\n\u001b[0m\u001b[1;32m    241\u001b[0m                 \u001b[0mmethod\u001b[0m\u001b[0;34m,\u001b[0m \u001b[0murl\u001b[0m\u001b[0;34m,\u001b[0m \u001b[0mheaders\u001b[0m\u001b[0;34m=\u001b[0m\u001b[0mheaders\u001b[0m\u001b[0;34m,\u001b[0m \u001b[0mproxies\u001b[0m\u001b[0;34m=\u001b[0m\u001b[0mself\u001b[0m\u001b[0;34m.\u001b[0m\u001b[0mproxies\u001b[0m\u001b[0;34m,\u001b[0m\u001b[0;34m\u001b[0m\u001b[0;34m\u001b[0m\u001b[0m\n\u001b[1;32m    242\u001b[0m                 \u001b[0mtimeout\u001b[0m\u001b[0;34m=\u001b[0m\u001b[0mself\u001b[0m\u001b[0;34m.\u001b[0m\u001b[0mrequests_timeout\u001b[0m\u001b[0;34m,\u001b[0m \u001b[0;34m**\u001b[0m\u001b[0margs\u001b[0m\u001b[0;34m\u001b[0m\u001b[0;34m\u001b[0m\u001b[0m\n",
      "\u001b[0;32m~/anaconda3/lib/python3.8/site-packages/requests/sessions.py\u001b[0m in \u001b[0;36mrequest\u001b[0;34m(self, method, url, params, data, headers, cookies, files, auth, timeout, allow_redirects, proxies, hooks, stream, verify, cert, json)\u001b[0m\n\u001b[1;32m    540\u001b[0m         }\n\u001b[1;32m    541\u001b[0m         \u001b[0msend_kwargs\u001b[0m\u001b[0;34m.\u001b[0m\u001b[0mupdate\u001b[0m\u001b[0;34m(\u001b[0m\u001b[0msettings\u001b[0m\u001b[0;34m)\u001b[0m\u001b[0;34m\u001b[0m\u001b[0;34m\u001b[0m\u001b[0m\n\u001b[0;32m--> 542\u001b[0;31m         \u001b[0mresp\u001b[0m \u001b[0;34m=\u001b[0m \u001b[0mself\u001b[0m\u001b[0;34m.\u001b[0m\u001b[0msend\u001b[0m\u001b[0;34m(\u001b[0m\u001b[0mprep\u001b[0m\u001b[0;34m,\u001b[0m \u001b[0;34m**\u001b[0m\u001b[0msend_kwargs\u001b[0m\u001b[0;34m)\u001b[0m\u001b[0;34m\u001b[0m\u001b[0;34m\u001b[0m\u001b[0m\n\u001b[0m\u001b[1;32m    543\u001b[0m \u001b[0;34m\u001b[0m\u001b[0m\n\u001b[1;32m    544\u001b[0m         \u001b[0;32mreturn\u001b[0m \u001b[0mresp\u001b[0m\u001b[0;34m\u001b[0m\u001b[0;34m\u001b[0m\u001b[0m\n",
      "\u001b[0;32m~/anaconda3/lib/python3.8/site-packages/requests/sessions.py\u001b[0m in \u001b[0;36msend\u001b[0;34m(self, request, **kwargs)\u001b[0m\n\u001b[1;32m    653\u001b[0m \u001b[0;34m\u001b[0m\u001b[0m\n\u001b[1;32m    654\u001b[0m         \u001b[0;31m# Send the request\u001b[0m\u001b[0;34m\u001b[0m\u001b[0;34m\u001b[0m\u001b[0;34m\u001b[0m\u001b[0m\n\u001b[0;32m--> 655\u001b[0;31m         \u001b[0mr\u001b[0m \u001b[0;34m=\u001b[0m \u001b[0madapter\u001b[0m\u001b[0;34m.\u001b[0m\u001b[0msend\u001b[0m\u001b[0;34m(\u001b[0m\u001b[0mrequest\u001b[0m\u001b[0;34m,\u001b[0m \u001b[0;34m**\u001b[0m\u001b[0mkwargs\u001b[0m\u001b[0;34m)\u001b[0m\u001b[0;34m\u001b[0m\u001b[0;34m\u001b[0m\u001b[0m\n\u001b[0m\u001b[1;32m    656\u001b[0m \u001b[0;34m\u001b[0m\u001b[0m\n\u001b[1;32m    657\u001b[0m         \u001b[0;31m# Total elapsed time of the request (approximately)\u001b[0m\u001b[0;34m\u001b[0m\u001b[0;34m\u001b[0m\u001b[0;34m\u001b[0m\u001b[0m\n",
      "\u001b[0;32m~/anaconda3/lib/python3.8/site-packages/requests/adapters.py\u001b[0m in \u001b[0;36msend\u001b[0;34m(self, request, stream, timeout, verify, cert, proxies)\u001b[0m\n\u001b[1;32m    437\u001b[0m         \u001b[0;32mtry\u001b[0m\u001b[0;34m:\u001b[0m\u001b[0;34m\u001b[0m\u001b[0;34m\u001b[0m\u001b[0m\n\u001b[1;32m    438\u001b[0m             \u001b[0;32mif\u001b[0m \u001b[0;32mnot\u001b[0m \u001b[0mchunked\u001b[0m\u001b[0;34m:\u001b[0m\u001b[0;34m\u001b[0m\u001b[0;34m\u001b[0m\u001b[0m\n\u001b[0;32m--> 439\u001b[0;31m                 resp = conn.urlopen(\n\u001b[0m\u001b[1;32m    440\u001b[0m                     \u001b[0mmethod\u001b[0m\u001b[0;34m=\u001b[0m\u001b[0mrequest\u001b[0m\u001b[0;34m.\u001b[0m\u001b[0mmethod\u001b[0m\u001b[0;34m,\u001b[0m\u001b[0;34m\u001b[0m\u001b[0;34m\u001b[0m\u001b[0m\n\u001b[1;32m    441\u001b[0m                     \u001b[0murl\u001b[0m\u001b[0;34m=\u001b[0m\u001b[0murl\u001b[0m\u001b[0;34m,\u001b[0m\u001b[0;34m\u001b[0m\u001b[0;34m\u001b[0m\u001b[0m\n",
      "\u001b[0;32m~/anaconda3/lib/python3.8/site-packages/urllib3/connectionpool.py\u001b[0m in \u001b[0;36murlopen\u001b[0;34m(self, method, url, body, headers, retries, redirect, assert_same_host, timeout, pool_timeout, release_conn, chunked, body_pos, **response_kw)\u001b[0m\n\u001b[1;32m    842\u001b[0m \u001b[0;34m\u001b[0m\u001b[0m\n\u001b[1;32m    843\u001b[0m             \u001b[0mresponse\u001b[0m\u001b[0;34m.\u001b[0m\u001b[0mdrain_conn\u001b[0m\u001b[0;34m(\u001b[0m\u001b[0;34m)\u001b[0m\u001b[0;34m\u001b[0m\u001b[0;34m\u001b[0m\u001b[0m\n\u001b[0;32m--> 844\u001b[0;31m             \u001b[0mretries\u001b[0m\u001b[0;34m.\u001b[0m\u001b[0msleep\u001b[0m\u001b[0;34m(\u001b[0m\u001b[0mresponse\u001b[0m\u001b[0;34m)\u001b[0m\u001b[0;34m\u001b[0m\u001b[0;34m\u001b[0m\u001b[0m\n\u001b[0m\u001b[1;32m    845\u001b[0m             \u001b[0mlog\u001b[0m\u001b[0;34m.\u001b[0m\u001b[0mdebug\u001b[0m\u001b[0;34m(\u001b[0m\u001b[0;34m\"Retry: %s\"\u001b[0m\u001b[0;34m,\u001b[0m \u001b[0murl\u001b[0m\u001b[0;34m)\u001b[0m\u001b[0;34m\u001b[0m\u001b[0;34m\u001b[0m\u001b[0m\n\u001b[1;32m    846\u001b[0m             return self.urlopen(\n",
      "\u001b[0;32m~/anaconda3/lib/python3.8/site-packages/urllib3/util/retry.py\u001b[0m in \u001b[0;36msleep\u001b[0;34m(self, response)\u001b[0m\n\u001b[1;32m    408\u001b[0m \u001b[0;34m\u001b[0m\u001b[0m\n\u001b[1;32m    409\u001b[0m         \u001b[0;32mif\u001b[0m \u001b[0mself\u001b[0m\u001b[0;34m.\u001b[0m\u001b[0mrespect_retry_after_header\u001b[0m \u001b[0;32mand\u001b[0m \u001b[0mresponse\u001b[0m\u001b[0;34m:\u001b[0m\u001b[0;34m\u001b[0m\u001b[0;34m\u001b[0m\u001b[0m\n\u001b[0;32m--> 410\u001b[0;31m             \u001b[0mslept\u001b[0m \u001b[0;34m=\u001b[0m \u001b[0mself\u001b[0m\u001b[0;34m.\u001b[0m\u001b[0msleep_for_retry\u001b[0m\u001b[0;34m(\u001b[0m\u001b[0mresponse\u001b[0m\u001b[0;34m)\u001b[0m\u001b[0;34m\u001b[0m\u001b[0;34m\u001b[0m\u001b[0m\n\u001b[0m\u001b[1;32m    411\u001b[0m             \u001b[0;32mif\u001b[0m \u001b[0mslept\u001b[0m\u001b[0;34m:\u001b[0m\u001b[0;34m\u001b[0m\u001b[0;34m\u001b[0m\u001b[0m\n\u001b[1;32m    412\u001b[0m                 \u001b[0;32mreturn\u001b[0m\u001b[0;34m\u001b[0m\u001b[0;34m\u001b[0m\u001b[0m\n",
      "\u001b[0;32m~/anaconda3/lib/python3.8/site-packages/urllib3/util/retry.py\u001b[0m in \u001b[0;36msleep_for_retry\u001b[0;34m(self, response)\u001b[0m\n\u001b[1;32m    387\u001b[0m         \u001b[0mretry_after\u001b[0m \u001b[0;34m=\u001b[0m \u001b[0mself\u001b[0m\u001b[0;34m.\u001b[0m\u001b[0mget_retry_after\u001b[0m\u001b[0;34m(\u001b[0m\u001b[0mresponse\u001b[0m\u001b[0;34m)\u001b[0m\u001b[0;34m\u001b[0m\u001b[0;34m\u001b[0m\u001b[0m\n\u001b[1;32m    388\u001b[0m         \u001b[0;32mif\u001b[0m \u001b[0mretry_after\u001b[0m\u001b[0;34m:\u001b[0m\u001b[0;34m\u001b[0m\u001b[0;34m\u001b[0m\u001b[0m\n\u001b[0;32m--> 389\u001b[0;31m             \u001b[0mtime\u001b[0m\u001b[0;34m.\u001b[0m\u001b[0msleep\u001b[0m\u001b[0;34m(\u001b[0m\u001b[0mretry_after\u001b[0m\u001b[0;34m)\u001b[0m\u001b[0;34m\u001b[0m\u001b[0;34m\u001b[0m\u001b[0m\n\u001b[0m\u001b[1;32m    390\u001b[0m             \u001b[0;32mreturn\u001b[0m \u001b[0;32mTrue\u001b[0m\u001b[0;34m\u001b[0m\u001b[0;34m\u001b[0m\u001b[0m\n\u001b[1;32m    391\u001b[0m \u001b[0;34m\u001b[0m\u001b[0m\n",
      "\u001b[0;31mKeyboardInterrupt\u001b[0m: "
     ]
    }
   ],
   "source": [
    "playlists = sp.user_playlists('spotify')\n",
    "print(playlists)\n",
    "\n",
    "playlist_ids = []\n",
    "while playlists:\n",
    "    for i, playlist in enumerate(playlists['items']):\n",
    "        playlist_ids.append(playlist['id'])\n",
    "    if playlists['next']:\n",
    "        playlists = sp.next(playlists)\n",
    "    else:\n",
    "        playlists = None"
   ]
  },
  {
   "cell_type": "code",
   "execution_count": null,
   "metadata": {
    "application/vnd.databricks.v1+cell": {
     "inputWidgets": {},
     "nuid": "def90059-aaa6-4880-82c2-b4768ddbe24d",
     "showTitle": false,
     "title": ""
    }
   },
   "outputs": [],
   "source": [
    "ids = []\n",
    "def getTrackIDs(user, playlist_id):\n",
    "    playlist = sp.user_playlist(user, playlist_id)\n",
    "    for item in playlist['tracks']['items']: #[:50]:\n",
    "        track = item['track']\n",
    "        if track is not None:\n",
    "            ids.append(track['id'])\n",
    "    return ids\n",
    "\n",
    "def getSpotifyTrackIDs(playlist_id):\n",
    "    return getTrackIDs('spotify', playlist_id)\n",
    "  \n",
    "#pool_obj = multiprocessing.Pool()\n",
    "#ids = pool_obj.map(getSpotifyTrackIDs,playlist_ids)\n",
    "\n",
    "p = Pool(8)\n",
    "p.map(f, [1, 2, 3, 4])\n",
    "p.close()\n",
    "p.join()\n",
    "\n",
    "\n",
    "for i in playlist_ids:\n",
    "    ids = getTrackIDs('spotify', i) #playlist"
   ]
  },
  {
   "cell_type": "code",
   "execution_count": null,
   "metadata": {
    "application/vnd.databricks.v1+cell": {
     "inputWidgets": {},
     "nuid": "72c2a613-e5e5-40fc-80c1-e1f6acaa84ae",
     "showTitle": false,
     "title": ""
    }
   },
   "outputs": [],
   "source": [
    "print(len(ids))"
   ]
  },
  {
   "cell_type": "code",
   "execution_count": 71,
   "metadata": {
    "application/vnd.databricks.v1+cell": {
     "inputWidgets": {},
     "nuid": "d63a4b28-99ba-4eba-a7ef-3e46da26aa43",
     "showTitle": false,
     "title": ""
    }
   },
   "outputs": [],
   "source": [
    "def getTrackFeatures(id):\n",
    "    meta = sp.track(id)\n",
    "    features = sp.audio_features(id)\n",
    "    \n",
    "    trackid = id\n",
    "    \n",
    "    # meta\n",
    "    name = meta['name']\n",
    "    album = meta['album']['name']\n",
    "    artist = meta['album']['artists'][0]['name']\n",
    "    release_date = meta['album']['release_date']\n",
    "    length = meta['duration_ms']\n",
    "    popularity = meta['popularity']\n",
    "\n",
    "    # features\n",
    "    acousticness = features[0]['acousticness']\n",
    "    danceability = features[0]['danceability']\n",
    "    energy = features[0]['energy']\n",
    "    instrumentalness = features[0]['instrumentalness']\n",
    "    liveness = features[0]['liveness']\n",
    "    loudness = features[0]['loudness']\n",
    "    speechiness = features[0]['speechiness']\n",
    "    tempo = features[0]['tempo']\n",
    "    time_signature = features[0]['time_signature']\n",
    "\n",
    "    track = [trackid, name, album, artist, release_date, length, popularity, danceability, acousticness, energy, instrumentalness, liveness, loudness, speechiness, tempo, time_signature]\n",
    "    \n",
    "    return track"
   ]
  },
  {
   "cell_type": "code",
   "execution_count": null,
   "metadata": {
    "application/vnd.databricks.v1+cell": {
     "inputWidgets": {},
     "nuid": "13a37aa0-6e5e-4b1c-84d7-795f03bb1b5c",
     "showTitle": false,
     "title": ""
    }
   },
   "outputs": [],
   "source": [
    "\n",
    "# loop over track ids to get audio features for each track\n",
    "tracks = []\n",
    "toCalcIds = ids[:5000]\n",
    "\n",
    "#pool_obj = multiprocessing.Pool()\n",
    "#tracks = pool_obj.map(getTrackFeatures,ids)\n",
    "\n",
    "for i in range(len(toCalcIds)):\n",
    "    sys.stdout.write(\"\\rProcessing Track Number %i\" % i)\n",
    "    sys.stdout.write(\"\\Tracks Number %i\" % len(toCalcIds))\n",
    "    sys.stdout.flush()\n",
    "    try: \n",
    "        track = getTrackFeatures(toCalcIds[i])\n",
    "        tracks.append(track)\n",
    "    except:\n",
    "        pass\n"
   ]
  },
  {
   "cell_type": "code",
   "execution_count": null,
   "metadata": {
    "application/vnd.databricks.v1+cell": {
     "inputWidgets": {},
     "nuid": "d653699a-8f13-42f5-bce1-a35a046192c9",
     "showTitle": false,
     "title": ""
    }
   },
   "outputs": [],
   "source": [
    "\n",
    "# create dataset\n",
    "df = pd.DataFrame(tracks, columns = ['trackid', 'name', 'album', 'artist', 'release_date', 'length', 'popularity', 'danceability', 'acousticness', 'energy', 'instrumentalness', 'liveness', 'loudness', 'speechiness', 'tempo', 'time_signature'])\n"
   ]
  },
  {
   "cell_type": "code",
   "execution_count": null,
   "metadata": {
    "application/vnd.databricks.v1+cell": {
     "inputWidgets": {},
     "nuid": "0dbd3878-6dc6-4308-96e1-3b60c5f3fee3",
     "showTitle": false,
     "title": ""
    }
   },
   "outputs": [],
   "source": [
    "df = spark.createDataFrame(df)"
   ]
  },
  {
   "cell_type": "code",
   "execution_count": null,
   "metadata": {
    "application/vnd.databricks.v1+cell": {
     "inputWidgets": {},
     "nuid": "3911fa1f-19c9-4835-8ddc-831d479d6f8b",
     "showTitle": false,
     "title": ""
    }
   },
   "outputs": [],
   "source": [
    "schema = df.printSchema()\n",
    "schema"
   ]
  },
  {
   "cell_type": "code",
   "execution_count": null,
   "metadata": {
    "application/vnd.databricks.v1+cell": {
     "inputWidgets": {},
     "nuid": "71d60d77-634a-44d4-9d4c-f3bb932c1165",
     "showTitle": false,
     "title": ""
    }
   },
   "outputs": [],
   "source": [
    "if isDatabricks :\n",
    "    %fs rm -r '/FileStore/tables/spotify.csv'"
   ]
  },
  {
   "cell_type": "code",
   "execution_count": null,
   "metadata": {
    "application/vnd.databricks.v1+cell": {
     "inputWidgets": {},
     "nuid": "3d009de6-c206-4d17-b995-9a7babcc206e",
     "showTitle": false,
     "title": ""
    }
   },
   "outputs": [],
   "source": [
    "if isDatabricks :\n",
    "    dbutils.fs.rm(\"/FileStore/tables/spotify.csv\")\n",
    "    df.write.format('com.databricks.spark.csv').option('header', 'true').save('dbfs:/FileStore/tables/spotify.csv')\n",
    "else:\n",
    "    df.write.format(\"com.databricks.spark.csv\").option('header', 'true').save('spotify.csv')"
   ]
  },
  {
   "cell_type": "code",
   "execution_count": null,
   "metadata": {
    "application/vnd.databricks.v1+cell": {
     "inputWidgets": {},
     "nuid": "2f9b6cf3-0ec8-4548-b7bb-15940b12dbc2",
     "showTitle": false,
     "title": ""
    }
   },
   "outputs": [],
   "source": [
    "df"
   ]
  },
  {
   "cell_type": "code",
   "execution_count": 6,
   "metadata": {
    "application/vnd.databricks.v1+cell": {
     "inputWidgets": {},
     "nuid": "fa7a9751-751a-4caf-8be2-6d6811b0a148",
     "showTitle": false,
     "title": ""
    }
   },
   "outputs": [],
   "source": [
    "if isDatabricks :\n",
    "    df = sqlcontext.read.load('dbfs:/FileStore/tables/spotify.csv', format='csv', header=True, inferSchema=True)\n",
    "else:\n",
    "    df = sqlcontext.read.load('spotify.csv', format='csv', header=True, inferSchema=True)"
   ]
  },
  {
   "cell_type": "code",
   "execution_count": 7,
   "metadata": {
    "application/vnd.databricks.v1+cell": {
     "inputWidgets": {},
     "nuid": "69a2dd61-669b-48f6-83c6-596f1e07c592",
     "showTitle": false,
     "title": ""
    }
   },
   "outputs": [],
   "source": [
    "# create a temporary view in order to use SQL statements\n",
    "df.createOrReplaceTempView(\"songs\")"
   ]
  },
  {
   "cell_type": "code",
   "execution_count": 8,
   "metadata": {
    "application/vnd.databricks.v1+cell": {
     "inputWidgets": {},
     "nuid": "30628ef7-c0cf-40bd-8432-bc0804fddcd3",
     "showTitle": false,
     "title": ""
    }
   },
   "outputs": [],
   "source": [
    "spark_dataset = sqlcontext.sql(\"SELECT * FROM songs\")\n",
    "spark_dataset = spark_dataset.dropna()"
   ]
  },
  {
   "cell_type": "markdown",
   "metadata": {
    "application/vnd.databricks.v1+cell": {
     "inputWidgets": {},
     "nuid": "b279c5a8-7734-4d29-b3fe-444c2762fa97",
     "showTitle": false,
     "title": ""
    }
   },
   "source": [
    "# MODEL 1 - K-Means clustering"
   ]
  },
  {
   "cell_type": "code",
   "execution_count": 9,
   "metadata": {
    "application/vnd.databricks.v1+cell": {
     "inputWidgets": {},
     "nuid": "ca37a861-e8c2-4cbd-9a80-f1aabeba5cfb",
     "showTitle": false,
     "title": ""
    }
   },
   "outputs": [
    {
     "name": "stdout",
     "output_type": "stream",
     "text": [
      "+--------------------+--------------------+--------------------+----------+------------+------+----------+------------+------------+------+----------------+--------+--------+-----------+-------+--------------+--------------------+\n",
      "|             trackid|                name|               album|    artist|release_date|length|popularity|danceability|acousticness|energy|instrumentalness|liveness|loudness|speechiness|  tempo|time_signature|            features|\n",
      "+--------------------+--------------------+--------------------+----------+------------+------+----------+------------+------------+------+----------------+--------+--------+-----------+-------+--------------+--------------------+\n",
      "|4fzsfWzRhPawzqhX8...|            Stronger|          Graduation|Kanye West|  2007-09-11|311866|        81|       0.617|     0.00564| 0.717|             0.0|   0.408|  -7.858|      0.153|103.992|             4|[311866.0,81.0,0....|\n",
      "|1xNcBAoUw8Hz6LqK2...|Call on Me - Radi...|Call on Me (Radio...|Eric Prydz|  2004-09-10|171360|        73|       0.597|     0.00427| 0.837|         0.00115|   0.839|  -6.518|      0.375|126.342|             4|[171360.0,73.0,0....|\n",
      "+--------------------+--------------------+--------------------+----------+------------+------+----------+------------+------------+------+----------------+--------+--------+-----------+-------+--------------+--------------------+\n",
      "only showing top 2 rows\n",
      "\n"
     ]
    }
   ],
   "source": [
    "\n",
    "\n",
    "features = ['length', 'popularity', 'danceability', 'acousticness', 'energy', 'instrumentalness', 'liveness', 'loudness', 'speechiness', 'tempo', 'time_signature']\n",
    "\n",
    "vecAssembler = VectorAssembler(inputCols=features, outputCol=\"features\")\n",
    "new_df = vecAssembler.transform(spark_dataset)\n",
    "new_df.show(2)"
   ]
  },
  {
   "cell_type": "code",
   "execution_count": 10,
   "metadata": {
    "application/vnd.databricks.v1+cell": {
     "inputWidgets": {},
     "nuid": "c69d1578-5ded-4058-813f-7f12a2deab1e",
     "showTitle": false,
     "title": ""
    }
   },
   "outputs": [
    {
     "name": "stdout",
     "output_type": "stream",
     "text": [
      "+--------------------+--------------------+--------------------+----------+------------+------+----------+------------+------------+------+----------------+--------+--------+-----------+-------+--------------+--------------------+--------------------+\n",
      "|             trackid|                name|               album|    artist|release_date|length|popularity|danceability|acousticness|energy|instrumentalness|liveness|loudness|speechiness|  tempo|time_signature|            features|        standardized|\n",
      "+--------------------+--------------------+--------------------+----------+------------+------+----------+------------+------------+------+----------------+--------+--------+-----------+-------+--------------+--------------------+--------------------+\n",
      "|4fzsfWzRhPawzqhX8...|            Stronger|          Graduation|Kanye West|  2007-09-11|311866|        81|       0.617|     0.00564| 0.717|             0.0|   0.408|  -7.858|      0.153|103.992|             4|[311866.0,81.0,0....|[5.33142147455581...|\n",
      "|1xNcBAoUw8Hz6LqK2...|Call on Me - Radi...|Call on Me (Radio...|Eric Prydz|  2004-09-10|171360|        73|       0.597|     0.00427| 0.837|         0.00115|   0.839|  -6.518|      0.375|126.342|             4|[171360.0,73.0,0....|[2.92943887400320...|\n",
      "+--------------------+--------------------+--------------------+----------+------------+------+----------+------------+------------+------+----------------+--------+--------+-----------+-------+--------------+--------------------+--------------------+\n",
      "only showing top 2 rows\n",
      "\n"
     ]
    }
   ],
   "source": [
    "\n",
    "scale=StandardScaler(inputCol='features',outputCol='standardized')\n",
    "data_scale=scale.fit(new_df)\n",
    "data_scale_output=data_scale.transform(new_df)\n",
    "data_scale_output.show(2)"
   ]
  },
  {
   "cell_type": "code",
   "execution_count": 11,
   "metadata": {
    "application/vnd.databricks.v1+cell": {
     "inputWidgets": {},
     "nuid": "906e0741-f328-4795-a039-919abd082a0e",
     "showTitle": false,
     "title": ""
    }
   },
   "outputs": [
    {
     "name": "stdout",
     "output_type": "stream",
     "text": [
      "Silhouette Score: 0.7147782782313672\n",
      "Silhouette Score: 0.3290233762854005\n",
      "Silhouette Score: 0.37976414853098617\n",
      "Silhouette Score: 0.33387127498410973\n",
      "Silhouette Score: 0.35378228834882197\n",
      "Silhouette Score: 0.32710313776682787\n",
      "Silhouette Score: 0.3040185856099402\n",
      "Silhouette Score: 0.2664327777075921\n",
      "Silhouette Score: 0.2681657270152324\n",
      "Silhouette Score: 0.25787631814901657\n",
      "Silhouette Score: 0.30664984280598556\n",
      "Silhouette Score: 0.3039060401225957\n",
      "Silhouette Score: 0.2540008497143236\n",
      "Silhouette Score: 0.24463052244814446\n",
      "Silhouette Score: 0.255271944803933\n",
      "Silhouette Score: 0.27376554317373175\n",
      "Silhouette Score: 0.27668347802872495\n",
      "Silhouette Score: 0.2587728772713068\n"
     ]
    }
   ],
   "source": [
    "\n",
    "silhouette_score=[]\n",
    "\n",
    "evaluator = ClusteringEvaluator(predictionCol='prediction', featuresCol='standardized', metricName='silhouette', distanceMeasure='squaredEuclidean')\n",
    "\n",
    "for i in range(2,20):\n",
    "    \n",
    "    KMeans_algo=KMeans(featuresCol='standardized', k=i)\n",
    "    \n",
    "    KMeans_fit=KMeans_algo.fit(data_scale_output)\n",
    "    \n",
    "    output=KMeans_fit.transform(data_scale_output)\n",
    "    \n",
    "    score=evaluator.evaluate(output)\n",
    "    \n",
    "    silhouette_score.append(score)\n",
    "    \n",
    "    print(\"Silhouette Score:\",score)"
   ]
  },
  {
   "cell_type": "code",
   "execution_count": 12,
   "metadata": {
    "application/vnd.databricks.v1+cell": {
     "inputWidgets": {},
     "nuid": "9e515866-cc2d-426e-8ee9-8aecf8fbf529",
     "showTitle": false,
     "title": ""
    }
   },
   "outputs": [
    {
     "data": {
      "text/plain": [
       "Text(0, 0.5, 'cost')"
      ]
     },
     "execution_count": 12,
     "metadata": {},
     "output_type": "execute_result"
    },
    {
     "data": {
      "image/png": "[encoded data removed]",
      "text/plain": [
       "<Figure size 1440x1440 with 1 Axes>"
      ]
     },
     "metadata": {
      "needs_background": "light"
     },
     "output_type": "display_data"
    }
   ],
   "source": [
    "#Visualizing the silhouette scores in a plot\n",
    "import matplotlib.pyplot as plt\n",
    "fig, ax = plt.subplots(1,1, figsize =(20,20))\n",
    "ax.plot(range(2,20),silhouette_score)\n",
    "ax.set_xlabel('k')\n",
    "ax.set_ylabel('cost')"
   ]
  },
  {
   "cell_type": "code",
   "execution_count": 13,
   "metadata": {
    "application/vnd.databricks.v1+cell": {
     "inputWidgets": {},
     "nuid": "ad3a0c1a-0dc0-4275-b0d4-07d969a5a03d",
     "showTitle": false,
     "title": ""
    }
   },
   "outputs": [
    {
     "name": "stdout",
     "output_type": "stream",
     "text": [
      "5\n",
      "11\n",
      "0.32710313776682787\n",
      "5\n"
     ]
    }
   ],
   "source": [
    "mid_index = len(silhouette_score) // 2\n",
    "mid_fit = silhouette_score[mid_index]\n",
    "for i in range(mid_index-4, mid_index+4) :\n",
    "    if mid_fit < silhouette_score[i]:\n",
    "        print(i)\n",
    "        print(mid_index+2)\n",
    "        mid_fit = silhouette_score[i]\n",
    "        mid_index = i\n",
    "\n",
    "print(mid_fit)\n",
    "print(mid_index)"
   ]
  },
  {
   "cell_type": "code",
   "execution_count": 14,
   "metadata": {
    "application/vnd.databricks.v1+cell": {
     "inputWidgets": {},
     "nuid": "20a74344-c38b-44f5-bec8-c24cccc8bd6c",
     "showTitle": false,
     "title": ""
    }
   },
   "outputs": [
    {
     "name": "stdout",
     "output_type": "stream",
     "text": [
      "Cluster Centers: \n",
      "[ 4.30810817  0.36186187  3.67181074  0.4671803   3.11591953  0.17548031\n",
      "  1.15815614 -0.95253449  0.63509407  4.6663305  10.17335607]\n",
      "[ 3.59072898e+00  3.31687170e+00  4.35525420e+00  6.05784183e-01\n",
      "  2.49769539e+00  9.65648700e-03  1.31646834e+00 -9.45169500e-01\n",
      "  3.39033008e+00  4.53413770e+00  1.01506477e+01]\n",
      "[ 3.6743316   3.25936817  3.81773904  0.31193268  3.15881574  0.16416404\n",
      "  3.13672118 -0.80166992  0.96430548  4.54313325 10.13482063]\n",
      "[ 3.33461125  2.72806542  2.65323497  2.48026773  0.71749429  2.14739938\n",
      "  0.80056497 -3.25429677  0.58617365  3.99058363  2.54333902]\n",
      "[ 4.05189401  3.14768267  3.2243027   1.01296279  2.35526229  0.09671568\n",
      "  0.93983291 -1.07572089  0.64842294  4.06655947  9.90187606]\n",
      "[ 2.77847548  2.86774626  2.40618837  3.14110786  0.18026684  3.11630511\n",
      "  0.73171413 -3.98892568  0.51125987  3.85420138  9.43496732]\n",
      "[ 3.27144683  3.52346722  4.46227283  0.35304414  2.99438361  0.14957064\n",
      "  0.93502501 -0.76330323  0.76332782  4.50193194 10.1609192 ]\n"
     ]
    }
   ],
   "source": [
    "KMeans_algo=KMeans(featuresCol='standardized', k=mid_index+2)\n",
    "KMeans_fit=KMeans_algo.fit(data_scale_output)\n",
    "output=KMeans_fit.transform(data_scale_output)\n",
    "centers = KMeans_fit.clusterCenters()\n",
    "print(\"Cluster Centers: \")\n",
    "for center in centers:\n",
    "    print(center)"
   ]
  },
  {
   "cell_type": "code",
   "execution_count": 15,
   "metadata": {
    "application/vnd.databricks.v1+cell": {
     "inputWidgets": {},
     "nuid": "5cfe5cbb-2f59-4fc1-b09a-bd66efb1852f",
     "showTitle": false,
     "title": ""
    }
   },
   "outputs": [
    {
     "name": "stdout",
     "output_type": "stream",
     "text": [
      "[66, 112, 132, 10, 178, 93, 409]\n"
     ]
    }
   ],
   "source": [
    "summary = KMeans_fit.summary\n",
    "print(summary.clusterSizes)"
   ]
  },
  {
   "cell_type": "code",
   "execution_count": 16,
   "metadata": {
    "application/vnd.databricks.v1+cell": {
     "inputWidgets": {},
     "nuid": "7cd7d16e-2b27-432b-a86a-195bf4828bd2",
     "showTitle": false,
     "title": ""
    }
   },
   "outputs": [
    {
     "data": {
      "text/html": [
       "<div>\n",
       "<style scoped>\n",
       "    .dataframe tbody tr th:only-of-type {\n",
       "        vertical-align: middle;\n",
       "    }\n",
       "\n",
       "    .dataframe tbody tr th {\n",
       "        vertical-align: top;\n",
       "    }\n",
       "\n",
       "    .dataframe thead th {\n",
       "        text-align: right;\n",
       "    }\n",
       "</style>\n",
       "<table border=\"1\" class=\"dataframe\">\n",
       "  <thead>\n",
       "    <tr style=\"text-align: right;\">\n",
       "      <th></th>\n",
       "      <th>trackid</th>\n",
       "      <th>name</th>\n",
       "      <th>album</th>\n",
       "      <th>artist</th>\n",
       "      <th>release_date</th>\n",
       "      <th>length</th>\n",
       "      <th>popularity</th>\n",
       "      <th>danceability</th>\n",
       "      <th>acousticness</th>\n",
       "      <th>energy</th>\n",
       "      <th>instrumentalness</th>\n",
       "      <th>liveness</th>\n",
       "      <th>loudness</th>\n",
       "      <th>speechiness</th>\n",
       "      <th>tempo</th>\n",
       "      <th>time_signature</th>\n",
       "      <th>features</th>\n",
       "      <th>standardized</th>\n",
       "      <th>prediction</th>\n",
       "    </tr>\n",
       "  </thead>\n",
       "  <tbody>\n",
       "    <tr>\n",
       "      <th>0</th>\n",
       "      <td>4fzsfWzRhPawzqhX8Qt9F3</td>\n",
       "      <td>Stronger</td>\n",
       "      <td>Graduation</td>\n",
       "      <td>Kanye West</td>\n",
       "      <td>2007-09-11</td>\n",
       "      <td>311866</td>\n",
       "      <td>81</td>\n",
       "      <td>0.617</td>\n",
       "      <td>0.00564</td>\n",
       "      <td>0.7170</td>\n",
       "      <td>0.000000</td>\n",
       "      <td>0.4080</td>\n",
       "      <td>-7.858</td>\n",
       "      <td>0.1530</td>\n",
       "      <td>103.992</td>\n",
       "      <td>4</td>\n",
       "      <td>[311866.0, 81.0, 0.617, 0.00564, 0.717, 0.0, 0...</td>\n",
       "      <td>[5.331421474555815, 3.9886877026148757, 3.8141...</td>\n",
       "      <td>2</td>\n",
       "    </tr>\n",
       "    <tr>\n",
       "      <th>1</th>\n",
       "      <td>1xNcBAoUw8Hz6LqK2jt4Ff</td>\n",
       "      <td>Call on Me - Radio Mix</td>\n",
       "      <td>Call on Me (Radio Mix)</td>\n",
       "      <td>Eric Prydz</td>\n",
       "      <td>2004-09-10</td>\n",
       "      <td>171360</td>\n",
       "      <td>73</td>\n",
       "      <td>0.597</td>\n",
       "      <td>0.00427</td>\n",
       "      <td>0.8370</td>\n",
       "      <td>0.001150</td>\n",
       "      <td>0.8390</td>\n",
       "      <td>-6.518</td>\n",
       "      <td>0.3750</td>\n",
       "      <td>126.342</td>\n",
       "      <td>4</td>\n",
       "      <td>[171360.0, 73.0, 0.597, 0.00427, 0.837, 0.0011...</td>\n",
       "      <td>[2.9294388740032082, 3.5947432381590856, 3.690...</td>\n",
       "      <td>2</td>\n",
       "    </tr>\n",
       "    <tr>\n",
       "      <th>2</th>\n",
       "      <td>6Sy9BUbgFse0n0LPA5lwy5</td>\n",
       "      <td>Sandstorm</td>\n",
       "      <td>Before the Storm, Special Edition</td>\n",
       "      <td>Darude</td>\n",
       "      <td>2001-01-01</td>\n",
       "      <td>225493</td>\n",
       "      <td>67</td>\n",
       "      <td>0.528</td>\n",
       "      <td>0.14100</td>\n",
       "      <td>0.9650</td>\n",
       "      <td>0.985000</td>\n",
       "      <td>0.0797</td>\n",
       "      <td>-7.984</td>\n",
       "      <td>0.0465</td>\n",
       "      <td>136.065</td>\n",
       "      <td>4</td>\n",
       "      <td>[225493.0, 67.0, 0.528, 0.141, 0.965, 0.985, 0...</td>\n",
       "      <td>[3.8548550421078747, 3.2992848898172427, 3.263...</td>\n",
       "      <td>6</td>\n",
       "    </tr>\n",
       "    <tr>\n",
       "      <th>3</th>\n",
       "      <td>7jk7gqyEonmVVYahZN5zhW</td>\n",
       "      <td>Circus</td>\n",
       "      <td>Circus (Deluxe Version)</td>\n",
       "      <td>Britney Spears</td>\n",
       "      <td>2008-12-02</td>\n",
       "      <td>192360</td>\n",
       "      <td>74</td>\n",
       "      <td>0.791</td>\n",
       "      <td>0.14700</td>\n",
       "      <td>0.7330</td>\n",
       "      <td>0.000381</td>\n",
       "      <td>0.0713</td>\n",
       "      <td>-5.215</td>\n",
       "      <td>0.0520</td>\n",
       "      <td>114.980</td>\n",
       "      <td>4</td>\n",
       "      <td>[192360.0, 74.0, 0.791, 0.147, 0.733, 0.000381...</td>\n",
       "      <td>[3.288438736013405, 3.643986296216059, 4.88981...</td>\n",
       "      <td>6</td>\n",
       "    </tr>\n",
       "    <tr>\n",
       "      <th>4</th>\n",
       "      <td>4xkOaSrkexMciUUogZKVTS</td>\n",
       "      <td>'Till I Collapse</td>\n",
       "      <td>The Eminem Show</td>\n",
       "      <td>Eminem</td>\n",
       "      <td>2002-05-26</td>\n",
       "      <td>297786</td>\n",
       "      <td>83</td>\n",
       "      <td>0.548</td>\n",
       "      <td>0.06220</td>\n",
       "      <td>0.8470</td>\n",
       "      <td>0.000000</td>\n",
       "      <td>0.0816</td>\n",
       "      <td>-3.237</td>\n",
       "      <td>0.1860</td>\n",
       "      <td>171.447</td>\n",
       "      <td>4</td>\n",
       "      <td>[297786.0, 83.0, 0.548, 0.0622, 0.847, 0.0, 0....</td>\n",
       "      <td>[5.0907206146937405, 4.087173818728823, 3.3876...</td>\n",
       "      <td>1</td>\n",
       "    </tr>\n",
       "    <tr>\n",
       "      <th>...</th>\n",
       "      <td>...</td>\n",
       "      <td>...</td>\n",
       "      <td>...</td>\n",
       "      <td>...</td>\n",
       "      <td>...</td>\n",
       "      <td>...</td>\n",
       "      <td>...</td>\n",
       "      <td>...</td>\n",
       "      <td>...</td>\n",
       "      <td>...</td>\n",
       "      <td>...</td>\n",
       "      <td>...</td>\n",
       "      <td>...</td>\n",
       "      <td>...</td>\n",
       "      <td>...</td>\n",
       "      <td>...</td>\n",
       "      <td>...</td>\n",
       "      <td>...</td>\n",
       "      <td>...</td>\n",
       "    </tr>\n",
       "    <tr>\n",
       "      <th>995</th>\n",
       "      <td>67mEEKBy1ViwbTybbiH2nF</td>\n",
       "      <td>Ever Since</td>\n",
       "      <td>Ever Since</td>\n",
       "      <td>Rickard Nilsson</td>\n",
       "      <td>2021-06-11</td>\n",
       "      <td>184677</td>\n",
       "      <td>59</td>\n",
       "      <td>0.475</td>\n",
       "      <td>0.99100</td>\n",
       "      <td>0.0372</td>\n",
       "      <td>0.922000</td>\n",
       "      <td>0.1050</td>\n",
       "      <td>-23.104</td>\n",
       "      <td>0.0518</td>\n",
       "      <td>85.356</td>\n",
       "      <td>3</td>\n",
       "      <td>[184677.0, 59.0, 0.475, 0.991, 0.0372, 0.922, ...</td>\n",
       "      <td>[3.157096072212246, 2.9053404253614525, 2.9363...</td>\n",
       "      <td>5</td>\n",
       "    </tr>\n",
       "    <tr>\n",
       "      <th>996</th>\n",
       "      <td>3nfhbwdfbK19V3vwRTAcoo</td>\n",
       "      <td>Purity</td>\n",
       "      <td>Purity</td>\n",
       "      <td>Cecile Roy</td>\n",
       "      <td>2021-07-05</td>\n",
       "      <td>147000</td>\n",
       "      <td>58</td>\n",
       "      <td>0.272</td>\n",
       "      <td>0.99300</td>\n",
       "      <td>0.0240</td>\n",
       "      <td>0.924000</td>\n",
       "      <td>0.0938</td>\n",
       "      <td>-27.869</td>\n",
       "      <td>0.0389</td>\n",
       "      <td>45.945</td>\n",
       "      <td>4</td>\n",
       "      <td>[147000.0, 58.0, 0.272, 0.993, 0.024, 0.924, 0...</td>\n",
       "      <td>[2.5129990340713793, 2.856097367304479, 1.6814...</td>\n",
       "      <td>5</td>\n",
       "    </tr>\n",
       "    <tr>\n",
       "      <th>997</th>\n",
       "      <td>135YvfJTQSpHZFPJSL5Iyc</td>\n",
       "      <td>A Never Ending Cycle</td>\n",
       "      <td>A Never Ending Cycle</td>\n",
       "      <td>Javi Lobe</td>\n",
       "      <td>2021-08-20</td>\n",
       "      <td>190000</td>\n",
       "      <td>54</td>\n",
       "      <td>0.487</td>\n",
       "      <td>0.99500</td>\n",
       "      <td>0.0441</td>\n",
       "      <td>0.941000</td>\n",
       "      <td>0.0828</td>\n",
       "      <td>-25.204</td>\n",
       "      <td>0.0516</td>\n",
       "      <td>113.473</td>\n",
       "      <td>4</td>\n",
       "      <td>[190000.0, 54.0, 0.487, 0.995, 0.0441, 0.941, ...</td>\n",
       "      <td>[3.2480939896160685, 2.6591251350765837, 3.010...</td>\n",
       "      <td>5</td>\n",
       "    </tr>\n",
       "    <tr>\n",
       "      <th>998</th>\n",
       "      <td>0ikGD2kxo348Cqxdb2jkzQ</td>\n",
       "      <td>Stay here</td>\n",
       "      <td>Stay here</td>\n",
       "      <td>Lara Di Umbra</td>\n",
       "      <td>2021-06-25</td>\n",
       "      <td>172500</td>\n",
       "      <td>59</td>\n",
       "      <td>0.284</td>\n",
       "      <td>0.99500</td>\n",
       "      <td>0.0223</td>\n",
       "      <td>0.941000</td>\n",
       "      <td>0.0912</td>\n",
       "      <td>-29.304</td>\n",
       "      <td>0.0373</td>\n",
       "      <td>99.990</td>\n",
       "      <td>4</td>\n",
       "      <td>[172500.0, 59.0, 0.284, 0.995, 0.0223, 0.941, ...</td>\n",
       "      <td>[2.9489274379409043, 2.9053404253614525, 1.755...</td>\n",
       "      <td>5</td>\n",
       "    </tr>\n",
       "    <tr>\n",
       "      <th>999</th>\n",
       "      <td>02kN88Xc8ks3JiKkGrMNpm</td>\n",
       "      <td>Page</td>\n",
       "      <td>Page</td>\n",
       "      <td>Hideyuki Hashimoto</td>\n",
       "      <td>2021-05-21</td>\n",
       "      <td>128000</td>\n",
       "      <td>60</td>\n",
       "      <td>0.477</td>\n",
       "      <td>0.98500</td>\n",
       "      <td>0.0493</td>\n",
       "      <td>0.952000</td>\n",
       "      <td>0.1020</td>\n",
       "      <td>-29.775</td>\n",
       "      <td>0.0366</td>\n",
       "      <td>76.017</td>\n",
       "      <td>1</td>\n",
       "      <td>[128000.0, 60.0, 0.477, 0.985, 0.0493, 0.952, ...</td>\n",
       "      <td>[2.1881896351097727, 2.954583483418426, 2.9487...</td>\n",
       "      <td>3</td>\n",
       "    </tr>\n",
       "  </tbody>\n",
       "</table>\n",
       "<p>1000 rows × 19 columns</p>\n",
       "</div>"
      ],
      "text/plain": [
       "                    trackid                    name  \\\n",
       "0    4fzsfWzRhPawzqhX8Qt9F3                Stronger   \n",
       "1    1xNcBAoUw8Hz6LqK2jt4Ff  Call on Me - Radio Mix   \n",
       "2    6Sy9BUbgFse0n0LPA5lwy5               Sandstorm   \n",
       "3    7jk7gqyEonmVVYahZN5zhW                  Circus   \n",
       "4    4xkOaSrkexMciUUogZKVTS        'Till I Collapse   \n",
       "..                      ...                     ...   \n",
       "995  67mEEKBy1ViwbTybbiH2nF              Ever Since   \n",
       "996  3nfhbwdfbK19V3vwRTAcoo                  Purity   \n",
       "997  135YvfJTQSpHZFPJSL5Iyc    A Never Ending Cycle   \n",
       "998  0ikGD2kxo348Cqxdb2jkzQ               Stay here   \n",
       "999  02kN88Xc8ks3JiKkGrMNpm                    Page   \n",
       "\n",
       "                                 album              artist release_date  \\\n",
       "0                           Graduation          Kanye West   2007-09-11   \n",
       "1               Call on Me (Radio Mix)          Eric Prydz   2004-09-10   \n",
       "2    Before the Storm, Special Edition              Darude   2001-01-01   \n",
       "3              Circus (Deluxe Version)      Britney Spears   2008-12-02   \n",
       "4                      The Eminem Show              Eminem   2002-05-26   \n",
       "..                                 ...                 ...          ...   \n",
       "995                         Ever Since     Rickard Nilsson   2021-06-11   \n",
       "996                             Purity          Cecile Roy   2021-07-05   \n",
       "997               A Never Ending Cycle           Javi Lobe   2021-08-20   \n",
       "998                          Stay here       Lara Di Umbra   2021-06-25   \n",
       "999                               Page  Hideyuki Hashimoto   2021-05-21   \n",
       "\n",
       "     length  popularity  danceability  acousticness  energy  instrumentalness  \\\n",
       "0    311866          81         0.617       0.00564  0.7170          0.000000   \n",
       "1    171360          73         0.597       0.00427  0.8370          0.001150   \n",
       "2    225493          67         0.528       0.14100  0.9650          0.985000   \n",
       "3    192360          74         0.791       0.14700  0.7330          0.000381   \n",
       "4    297786          83         0.548       0.06220  0.8470          0.000000   \n",
       "..      ...         ...           ...           ...     ...               ...   \n",
       "995  184677          59         0.475       0.99100  0.0372          0.922000   \n",
       "996  147000          58         0.272       0.99300  0.0240          0.924000   \n",
       "997  190000          54         0.487       0.99500  0.0441          0.941000   \n",
       "998  172500          59         0.284       0.99500  0.0223          0.941000   \n",
       "999  128000          60         0.477       0.98500  0.0493          0.952000   \n",
       "\n",
       "     liveness  loudness  speechiness    tempo  time_signature  \\\n",
       "0      0.4080    -7.858       0.1530  103.992               4   \n",
       "1      0.8390    -6.518       0.3750  126.342               4   \n",
       "2      0.0797    -7.984       0.0465  136.065               4   \n",
       "3      0.0713    -5.215       0.0520  114.980               4   \n",
       "4      0.0816    -3.237       0.1860  171.447               4   \n",
       "..        ...       ...          ...      ...             ...   \n",
       "995    0.1050   -23.104       0.0518   85.356               3   \n",
       "996    0.0938   -27.869       0.0389   45.945               4   \n",
       "997    0.0828   -25.204       0.0516  113.473               4   \n",
       "998    0.0912   -29.304       0.0373   99.990               4   \n",
       "999    0.1020   -29.775       0.0366   76.017               1   \n",
       "\n",
       "                                              features  \\\n",
       "0    [311866.0, 81.0, 0.617, 0.00564, 0.717, 0.0, 0...   \n",
       "1    [171360.0, 73.0, 0.597, 0.00427, 0.837, 0.0011...   \n",
       "2    [225493.0, 67.0, 0.528, 0.141, 0.965, 0.985, 0...   \n",
       "3    [192360.0, 74.0, 0.791, 0.147, 0.733, 0.000381...   \n",
       "4    [297786.0, 83.0, 0.548, 0.0622, 0.847, 0.0, 0....   \n",
       "..                                                 ...   \n",
       "995  [184677.0, 59.0, 0.475, 0.991, 0.0372, 0.922, ...   \n",
       "996  [147000.0, 58.0, 0.272, 0.993, 0.024, 0.924, 0...   \n",
       "997  [190000.0, 54.0, 0.487, 0.995, 0.0441, 0.941, ...   \n",
       "998  [172500.0, 59.0, 0.284, 0.995, 0.0223, 0.941, ...   \n",
       "999  [128000.0, 60.0, 0.477, 0.985, 0.0493, 0.952, ...   \n",
       "\n",
       "                                          standardized  prediction  \n",
       "0    [5.331421474555815, 3.9886877026148757, 3.8141...           2  \n",
       "1    [2.9294388740032082, 3.5947432381590856, 3.690...           2  \n",
       "2    [3.8548550421078747, 3.2992848898172427, 3.263...           6  \n",
       "3    [3.288438736013405, 3.643986296216059, 4.88981...           6  \n",
       "4    [5.0907206146937405, 4.087173818728823, 3.3876...           1  \n",
       "..                                                 ...         ...  \n",
       "995  [3.157096072212246, 2.9053404253614525, 2.9363...           5  \n",
       "996  [2.5129990340713793, 2.856097367304479, 1.6814...           5  \n",
       "997  [3.2480939896160685, 2.6591251350765837, 3.010...           5  \n",
       "998  [2.9489274379409043, 2.9053404253614525, 1.755...           5  \n",
       "999  [2.1881896351097727, 2.954583483418426, 2.9487...           3  \n",
       "\n",
       "[1000 rows x 19 columns]"
      ]
     },
     "execution_count": 16,
     "metadata": {},
     "output_type": "execute_result"
    }
   ],
   "source": [
    "output.toPandas()"
   ]
  },
  {
   "cell_type": "code",
   "execution_count": 17,
   "metadata": {
    "application/vnd.databricks.v1+cell": {
     "inputWidgets": {},
     "nuid": "168710ae-1a7b-4c77-bcef-133e161964ec",
     "showTitle": false,
     "title": ""
    }
   },
   "outputs": [
    {
     "name": "stdout",
     "output_type": "stream",
     "text": [
      "+--------------------+--------------------+--------------------+----------+------------+------+----------+------------+------------+------+----------------+--------+--------+-----------+-------+--------------+--------------------+----------+\n",
      "|             trackid|                name|               album|    artist|release_date|length|popularity|danceability|acousticness|energy|instrumentalness|liveness|loudness|speechiness|  tempo|time_signature|        standardized|prediction|\n",
      "+--------------------+--------------------+--------------------+----------+------------+------+----------+------------+------------+------+----------------+--------+--------+-----------+-------+--------------+--------------------+----------+\n",
      "|4fzsfWzRhPawzqhX8...|            Stronger|          Graduation|Kanye West|  2007-09-11|311866|        81|       0.617|     0.00564| 0.717|             0.0|   0.408|  -7.858|      0.153|103.992|             4|[5.33142147455581...|         2|\n",
      "|1xNcBAoUw8Hz6LqK2...|Call on Me - Radi...|Call on Me (Radio...|Eric Prydz|  2004-09-10|171360|        73|       0.597|     0.00427| 0.837|         0.00115|   0.839|  -6.518|      0.375|126.342|             4|[2.92943887400320...|         2|\n",
      "+--------------------+--------------------+--------------------+----------+------------+------+----------+------------+------------+------+----------------+--------+--------+-----------+-------+--------------+--------------------+----------+\n",
      "only showing top 2 rows\n",
      "\n"
     ]
    }
   ],
   "source": [
    "## Store results in spark\n",
    "\n",
    "kmeansout = output.drop(output.features)\n",
    "kmeansout.show(2)\n",
    "kmeansout.createOrReplaceTempView(\"kmoutput\")"
   ]
  },
  {
   "cell_type": "code",
   "execution_count": 18,
   "metadata": {
    "application/vnd.databricks.v1+cell": {
     "inputWidgets": {},
     "nuid": "55ce7b6c-7c35-45d1-9c70-0dd1783be8b4",
     "showTitle": false,
     "title": ""
    },
    "scrolled": true
   },
   "outputs": [
    {
     "data": {
      "text/html": [
       "<div>\n",
       "<style scoped>\n",
       "    .dataframe tbody tr th:only-of-type {\n",
       "        vertical-align: middle;\n",
       "    }\n",
       "\n",
       "    .dataframe tbody tr th {\n",
       "        vertical-align: top;\n",
       "    }\n",
       "\n",
       "    .dataframe thead th {\n",
       "        text-align: right;\n",
       "    }\n",
       "</style>\n",
       "<table border=\"1\" class=\"dataframe\">\n",
       "  <thead>\n",
       "    <tr style=\"text-align: right;\">\n",
       "      <th></th>\n",
       "      <th>trackid</th>\n",
       "      <th>name</th>\n",
       "      <th>album</th>\n",
       "      <th>artist</th>\n",
       "      <th>release_date</th>\n",
       "      <th>length</th>\n",
       "      <th>popularity</th>\n",
       "      <th>danceability</th>\n",
       "      <th>acousticness</th>\n",
       "      <th>energy</th>\n",
       "      <th>instrumentalness</th>\n",
       "      <th>liveness</th>\n",
       "      <th>loudness</th>\n",
       "      <th>speechiness</th>\n",
       "      <th>tempo</th>\n",
       "      <th>time_signature</th>\n",
       "      <th>standardized</th>\n",
       "      <th>prediction</th>\n",
       "    </tr>\n",
       "  </thead>\n",
       "  <tbody>\n",
       "    <tr>\n",
       "      <th>0</th>\n",
       "      <td>4fzsfWzRhPawzqhX8Qt9F3</td>\n",
       "      <td>Stronger</td>\n",
       "      <td>Graduation</td>\n",
       "      <td>Kanye West</td>\n",
       "      <td>2007-09-11</td>\n",
       "      <td>311866</td>\n",
       "      <td>81</td>\n",
       "      <td>0.617</td>\n",
       "      <td>0.00564</td>\n",
       "      <td>0.7170</td>\n",
       "      <td>0.000000</td>\n",
       "      <td>0.4080</td>\n",
       "      <td>-7.858</td>\n",
       "      <td>0.1530</td>\n",
       "      <td>103.992</td>\n",
       "      <td>4</td>\n",
       "      <td>[5.331421474555815, 3.9886877026148757, 3.8141...</td>\n",
       "      <td>2</td>\n",
       "    </tr>\n",
       "    <tr>\n",
       "      <th>1</th>\n",
       "      <td>1xNcBAoUw8Hz6LqK2jt4Ff</td>\n",
       "      <td>Call on Me - Radio Mix</td>\n",
       "      <td>Call on Me (Radio Mix)</td>\n",
       "      <td>Eric Prydz</td>\n",
       "      <td>2004-09-10</td>\n",
       "      <td>171360</td>\n",
       "      <td>73</td>\n",
       "      <td>0.597</td>\n",
       "      <td>0.00427</td>\n",
       "      <td>0.8370</td>\n",
       "      <td>0.001150</td>\n",
       "      <td>0.8390</td>\n",
       "      <td>-6.518</td>\n",
       "      <td>0.3750</td>\n",
       "      <td>126.342</td>\n",
       "      <td>4</td>\n",
       "      <td>[2.9294388740032082, 3.5947432381590856, 3.690...</td>\n",
       "      <td>2</td>\n",
       "    </tr>\n",
       "    <tr>\n",
       "      <th>2</th>\n",
       "      <td>6Sy9BUbgFse0n0LPA5lwy5</td>\n",
       "      <td>Sandstorm</td>\n",
       "      <td>Before the Storm, Special Edition</td>\n",
       "      <td>Darude</td>\n",
       "      <td>2001-01-01</td>\n",
       "      <td>225493</td>\n",
       "      <td>67</td>\n",
       "      <td>0.528</td>\n",
       "      <td>0.14100</td>\n",
       "      <td>0.9650</td>\n",
       "      <td>0.985000</td>\n",
       "      <td>0.0797</td>\n",
       "      <td>-7.984</td>\n",
       "      <td>0.0465</td>\n",
       "      <td>136.065</td>\n",
       "      <td>4</td>\n",
       "      <td>[3.8548550421078747, 3.2992848898172427, 3.263...</td>\n",
       "      <td>6</td>\n",
       "    </tr>\n",
       "    <tr>\n",
       "      <th>3</th>\n",
       "      <td>7jk7gqyEonmVVYahZN5zhW</td>\n",
       "      <td>Circus</td>\n",
       "      <td>Circus (Deluxe Version)</td>\n",
       "      <td>Britney Spears</td>\n",
       "      <td>2008-12-02</td>\n",
       "      <td>192360</td>\n",
       "      <td>74</td>\n",
       "      <td>0.791</td>\n",
       "      <td>0.14700</td>\n",
       "      <td>0.7330</td>\n",
       "      <td>0.000381</td>\n",
       "      <td>0.0713</td>\n",
       "      <td>-5.215</td>\n",
       "      <td>0.0520</td>\n",
       "      <td>114.980</td>\n",
       "      <td>4</td>\n",
       "      <td>[3.288438736013405, 3.643986296216059, 4.88981...</td>\n",
       "      <td>6</td>\n",
       "    </tr>\n",
       "    <tr>\n",
       "      <th>4</th>\n",
       "      <td>4xkOaSrkexMciUUogZKVTS</td>\n",
       "      <td>'Till I Collapse</td>\n",
       "      <td>The Eminem Show</td>\n",
       "      <td>Eminem</td>\n",
       "      <td>2002-05-26</td>\n",
       "      <td>297786</td>\n",
       "      <td>83</td>\n",
       "      <td>0.548</td>\n",
       "      <td>0.06220</td>\n",
       "      <td>0.8470</td>\n",
       "      <td>0.000000</td>\n",
       "      <td>0.0816</td>\n",
       "      <td>-3.237</td>\n",
       "      <td>0.1860</td>\n",
       "      <td>171.447</td>\n",
       "      <td>4</td>\n",
       "      <td>[5.0907206146937405, 4.087173818728823, 3.3876...</td>\n",
       "      <td>1</td>\n",
       "    </tr>\n",
       "    <tr>\n",
       "      <th>...</th>\n",
       "      <td>...</td>\n",
       "      <td>...</td>\n",
       "      <td>...</td>\n",
       "      <td>...</td>\n",
       "      <td>...</td>\n",
       "      <td>...</td>\n",
       "      <td>...</td>\n",
       "      <td>...</td>\n",
       "      <td>...</td>\n",
       "      <td>...</td>\n",
       "      <td>...</td>\n",
       "      <td>...</td>\n",
       "      <td>...</td>\n",
       "      <td>...</td>\n",
       "      <td>...</td>\n",
       "      <td>...</td>\n",
       "      <td>...</td>\n",
       "      <td>...</td>\n",
       "    </tr>\n",
       "    <tr>\n",
       "      <th>995</th>\n",
       "      <td>67mEEKBy1ViwbTybbiH2nF</td>\n",
       "      <td>Ever Since</td>\n",
       "      <td>Ever Since</td>\n",
       "      <td>Rickard Nilsson</td>\n",
       "      <td>2021-06-11</td>\n",
       "      <td>184677</td>\n",
       "      <td>59</td>\n",
       "      <td>0.475</td>\n",
       "      <td>0.99100</td>\n",
       "      <td>0.0372</td>\n",
       "      <td>0.922000</td>\n",
       "      <td>0.1050</td>\n",
       "      <td>-23.104</td>\n",
       "      <td>0.0518</td>\n",
       "      <td>85.356</td>\n",
       "      <td>3</td>\n",
       "      <td>[3.157096072212246, 2.9053404253614525, 2.9363...</td>\n",
       "      <td>5</td>\n",
       "    </tr>\n",
       "    <tr>\n",
       "      <th>996</th>\n",
       "      <td>3nfhbwdfbK19V3vwRTAcoo</td>\n",
       "      <td>Purity</td>\n",
       "      <td>Purity</td>\n",
       "      <td>Cecile Roy</td>\n",
       "      <td>2021-07-05</td>\n",
       "      <td>147000</td>\n",
       "      <td>58</td>\n",
       "      <td>0.272</td>\n",
       "      <td>0.99300</td>\n",
       "      <td>0.0240</td>\n",
       "      <td>0.924000</td>\n",
       "      <td>0.0938</td>\n",
       "      <td>-27.869</td>\n",
       "      <td>0.0389</td>\n",
       "      <td>45.945</td>\n",
       "      <td>4</td>\n",
       "      <td>[2.5129990340713793, 2.856097367304479, 1.6814...</td>\n",
       "      <td>5</td>\n",
       "    </tr>\n",
       "    <tr>\n",
       "      <th>997</th>\n",
       "      <td>135YvfJTQSpHZFPJSL5Iyc</td>\n",
       "      <td>A Never Ending Cycle</td>\n",
       "      <td>A Never Ending Cycle</td>\n",
       "      <td>Javi Lobe</td>\n",
       "      <td>2021-08-20</td>\n",
       "      <td>190000</td>\n",
       "      <td>54</td>\n",
       "      <td>0.487</td>\n",
       "      <td>0.99500</td>\n",
       "      <td>0.0441</td>\n",
       "      <td>0.941000</td>\n",
       "      <td>0.0828</td>\n",
       "      <td>-25.204</td>\n",
       "      <td>0.0516</td>\n",
       "      <td>113.473</td>\n",
       "      <td>4</td>\n",
       "      <td>[3.2480939896160685, 2.6591251350765837, 3.010...</td>\n",
       "      <td>5</td>\n",
       "    </tr>\n",
       "    <tr>\n",
       "      <th>998</th>\n",
       "      <td>0ikGD2kxo348Cqxdb2jkzQ</td>\n",
       "      <td>Stay here</td>\n",
       "      <td>Stay here</td>\n",
       "      <td>Lara Di Umbra</td>\n",
       "      <td>2021-06-25</td>\n",
       "      <td>172500</td>\n",
       "      <td>59</td>\n",
       "      <td>0.284</td>\n",
       "      <td>0.99500</td>\n",
       "      <td>0.0223</td>\n",
       "      <td>0.941000</td>\n",
       "      <td>0.0912</td>\n",
       "      <td>-29.304</td>\n",
       "      <td>0.0373</td>\n",
       "      <td>99.990</td>\n",
       "      <td>4</td>\n",
       "      <td>[2.9489274379409043, 2.9053404253614525, 1.755...</td>\n",
       "      <td>5</td>\n",
       "    </tr>\n",
       "    <tr>\n",
       "      <th>999</th>\n",
       "      <td>02kN88Xc8ks3JiKkGrMNpm</td>\n",
       "      <td>Page</td>\n",
       "      <td>Page</td>\n",
       "      <td>Hideyuki Hashimoto</td>\n",
       "      <td>2021-05-21</td>\n",
       "      <td>128000</td>\n",
       "      <td>60</td>\n",
       "      <td>0.477</td>\n",
       "      <td>0.98500</td>\n",
       "      <td>0.0493</td>\n",
       "      <td>0.952000</td>\n",
       "      <td>0.1020</td>\n",
       "      <td>-29.775</td>\n",
       "      <td>0.0366</td>\n",
       "      <td>76.017</td>\n",
       "      <td>1</td>\n",
       "      <td>[2.1881896351097727, 2.954583483418426, 2.9487...</td>\n",
       "      <td>3</td>\n",
       "    </tr>\n",
       "  </tbody>\n",
       "</table>\n",
       "<p>1000 rows × 18 columns</p>\n",
       "</div>"
      ],
      "text/plain": [
       "                    trackid                    name  \\\n",
       "0    4fzsfWzRhPawzqhX8Qt9F3                Stronger   \n",
       "1    1xNcBAoUw8Hz6LqK2jt4Ff  Call on Me - Radio Mix   \n",
       "2    6Sy9BUbgFse0n0LPA5lwy5               Sandstorm   \n",
       "3    7jk7gqyEonmVVYahZN5zhW                  Circus   \n",
       "4    4xkOaSrkexMciUUogZKVTS        'Till I Collapse   \n",
       "..                      ...                     ...   \n",
       "995  67mEEKBy1ViwbTybbiH2nF              Ever Since   \n",
       "996  3nfhbwdfbK19V3vwRTAcoo                  Purity   \n",
       "997  135YvfJTQSpHZFPJSL5Iyc    A Never Ending Cycle   \n",
       "998  0ikGD2kxo348Cqxdb2jkzQ               Stay here   \n",
       "999  02kN88Xc8ks3JiKkGrMNpm                    Page   \n",
       "\n",
       "                                 album              artist release_date  \\\n",
       "0                           Graduation          Kanye West   2007-09-11   \n",
       "1               Call on Me (Radio Mix)          Eric Prydz   2004-09-10   \n",
       "2    Before the Storm, Special Edition              Darude   2001-01-01   \n",
       "3              Circus (Deluxe Version)      Britney Spears   2008-12-02   \n",
       "4                      The Eminem Show              Eminem   2002-05-26   \n",
       "..                                 ...                 ...          ...   \n",
       "995                         Ever Since     Rickard Nilsson   2021-06-11   \n",
       "996                             Purity          Cecile Roy   2021-07-05   \n",
       "997               A Never Ending Cycle           Javi Lobe   2021-08-20   \n",
       "998                          Stay here       Lara Di Umbra   2021-06-25   \n",
       "999                               Page  Hideyuki Hashimoto   2021-05-21   \n",
       "\n",
       "     length  popularity  danceability  acousticness  energy  instrumentalness  \\\n",
       "0    311866          81         0.617       0.00564  0.7170          0.000000   \n",
       "1    171360          73         0.597       0.00427  0.8370          0.001150   \n",
       "2    225493          67         0.528       0.14100  0.9650          0.985000   \n",
       "3    192360          74         0.791       0.14700  0.7330          0.000381   \n",
       "4    297786          83         0.548       0.06220  0.8470          0.000000   \n",
       "..      ...         ...           ...           ...     ...               ...   \n",
       "995  184677          59         0.475       0.99100  0.0372          0.922000   \n",
       "996  147000          58         0.272       0.99300  0.0240          0.924000   \n",
       "997  190000          54         0.487       0.99500  0.0441          0.941000   \n",
       "998  172500          59         0.284       0.99500  0.0223          0.941000   \n",
       "999  128000          60         0.477       0.98500  0.0493          0.952000   \n",
       "\n",
       "     liveness  loudness  speechiness    tempo  time_signature  \\\n",
       "0      0.4080    -7.858       0.1530  103.992               4   \n",
       "1      0.8390    -6.518       0.3750  126.342               4   \n",
       "2      0.0797    -7.984       0.0465  136.065               4   \n",
       "3      0.0713    -5.215       0.0520  114.980               4   \n",
       "4      0.0816    -3.237       0.1860  171.447               4   \n",
       "..        ...       ...          ...      ...             ...   \n",
       "995    0.1050   -23.104       0.0518   85.356               3   \n",
       "996    0.0938   -27.869       0.0389   45.945               4   \n",
       "997    0.0828   -25.204       0.0516  113.473               4   \n",
       "998    0.0912   -29.304       0.0373   99.990               4   \n",
       "999    0.1020   -29.775       0.0366   76.017               1   \n",
       "\n",
       "                                          standardized  prediction  \n",
       "0    [5.331421474555815, 3.9886877026148757, 3.8141...           2  \n",
       "1    [2.9294388740032082, 3.5947432381590856, 3.690...           2  \n",
       "2    [3.8548550421078747, 3.2992848898172427, 3.263...           6  \n",
       "3    [3.288438736013405, 3.643986296216059, 4.88981...           6  \n",
       "4    [5.0907206146937405, 4.087173818728823, 3.3876...           1  \n",
       "..                                                 ...         ...  \n",
       "995  [3.157096072212246, 2.9053404253614525, 2.9363...           5  \n",
       "996  [2.5129990340713793, 2.856097367304479, 1.6814...           5  \n",
       "997  [3.2480939896160685, 2.6591251350765837, 3.010...           5  \n",
       "998  [2.9489274379409043, 2.9053404253614525, 1.755...           5  \n",
       "999  [2.1881896351097727, 2.954583483418426, 2.9487...           3  \n",
       "\n",
       "[1000 rows x 18 columns]"
      ]
     },
     "execution_count": 18,
     "metadata": {},
     "output_type": "execute_result"
    }
   ],
   "source": [
    "kmoutsql = sqlcontext.sql(\"SELECT * FROM kmoutput\")\n",
    "kmoutsql.toPandas()"
   ]
  },
  {
   "cell_type": "markdown",
   "metadata": {},
   "source": [
    "# MODEL 2 - LYRICS EXTRACTION"
   ]
  },
  {
   "cell_type": "code",
   "execution_count": 19,
   "metadata": {},
   "outputs": [
    {
     "data": {
      "text/html": [
       "<div>\n",
       "<style scoped>\n",
       "    .dataframe tbody tr th:only-of-type {\n",
       "        vertical-align: middle;\n",
       "    }\n",
       "\n",
       "    .dataframe tbody tr th {\n",
       "        vertical-align: top;\n",
       "    }\n",
       "\n",
       "    .dataframe thead th {\n",
       "        text-align: right;\n",
       "    }\n",
       "</style>\n",
       "<table border=\"1\" class=\"dataframe\">\n",
       "  <thead>\n",
       "    <tr style=\"text-align: right;\">\n",
       "      <th></th>\n",
       "      <th>trackid</th>\n",
       "      <th>name</th>\n",
       "      <th>album</th>\n",
       "      <th>artist</th>\n",
       "    </tr>\n",
       "  </thead>\n",
       "  <tbody>\n",
       "    <tr>\n",
       "      <th>0</th>\n",
       "      <td>4fzsfWzRhPawzqhX8Qt9F3</td>\n",
       "      <td>Stronger</td>\n",
       "      <td>Graduation</td>\n",
       "      <td>Kanye West</td>\n",
       "    </tr>\n",
       "    <tr>\n",
       "      <th>1</th>\n",
       "      <td>1xNcBAoUw8Hz6LqK2jt4Ff</td>\n",
       "      <td>Call on Me - Radio Mix</td>\n",
       "      <td>Call on Me (Radio Mix)</td>\n",
       "      <td>Eric Prydz</td>\n",
       "    </tr>\n",
       "    <tr>\n",
       "      <th>2</th>\n",
       "      <td>6Sy9BUbgFse0n0LPA5lwy5</td>\n",
       "      <td>Sandstorm</td>\n",
       "      <td>Before the Storm, Special Edition</td>\n",
       "      <td>Darude</td>\n",
       "    </tr>\n",
       "    <tr>\n",
       "      <th>3</th>\n",
       "      <td>7jk7gqyEonmVVYahZN5zhW</td>\n",
       "      <td>Circus</td>\n",
       "      <td>Circus (Deluxe Version)</td>\n",
       "      <td>Britney Spears</td>\n",
       "    </tr>\n",
       "    <tr>\n",
       "      <th>4</th>\n",
       "      <td>4xkOaSrkexMciUUogZKVTS</td>\n",
       "      <td>'Till I Collapse</td>\n",
       "      <td>The Eminem Show</td>\n",
       "      <td>Eminem</td>\n",
       "    </tr>\n",
       "    <tr>\n",
       "      <th>...</th>\n",
       "      <td>...</td>\n",
       "      <td>...</td>\n",
       "      <td>...</td>\n",
       "      <td>...</td>\n",
       "    </tr>\n",
       "    <tr>\n",
       "      <th>995</th>\n",
       "      <td>67mEEKBy1ViwbTybbiH2nF</td>\n",
       "      <td>Ever Since</td>\n",
       "      <td>Ever Since</td>\n",
       "      <td>Rickard Nilsson</td>\n",
       "    </tr>\n",
       "    <tr>\n",
       "      <th>996</th>\n",
       "      <td>3nfhbwdfbK19V3vwRTAcoo</td>\n",
       "      <td>Purity</td>\n",
       "      <td>Purity</td>\n",
       "      <td>Cecile Roy</td>\n",
       "    </tr>\n",
       "    <tr>\n",
       "      <th>997</th>\n",
       "      <td>135YvfJTQSpHZFPJSL5Iyc</td>\n",
       "      <td>A Never Ending Cycle</td>\n",
       "      <td>A Never Ending Cycle</td>\n",
       "      <td>Javi Lobe</td>\n",
       "    </tr>\n",
       "    <tr>\n",
       "      <th>998</th>\n",
       "      <td>0ikGD2kxo348Cqxdb2jkzQ</td>\n",
       "      <td>Stay here</td>\n",
       "      <td>Stay here</td>\n",
       "      <td>Lara Di Umbra</td>\n",
       "    </tr>\n",
       "    <tr>\n",
       "      <th>999</th>\n",
       "      <td>02kN88Xc8ks3JiKkGrMNpm</td>\n",
       "      <td>Page</td>\n",
       "      <td>Page</td>\n",
       "      <td>Hideyuki Hashimoto</td>\n",
       "    </tr>\n",
       "  </tbody>\n",
       "</table>\n",
       "<p>1000 rows × 4 columns</p>\n",
       "</div>"
      ],
      "text/plain": [
       "                    trackid                    name  \\\n",
       "0    4fzsfWzRhPawzqhX8Qt9F3                Stronger   \n",
       "1    1xNcBAoUw8Hz6LqK2jt4Ff  Call on Me - Radio Mix   \n",
       "2    6Sy9BUbgFse0n0LPA5lwy5               Sandstorm   \n",
       "3    7jk7gqyEonmVVYahZN5zhW                  Circus   \n",
       "4    4xkOaSrkexMciUUogZKVTS        'Till I Collapse   \n",
       "..                      ...                     ...   \n",
       "995  67mEEKBy1ViwbTybbiH2nF              Ever Since   \n",
       "996  3nfhbwdfbK19V3vwRTAcoo                  Purity   \n",
       "997  135YvfJTQSpHZFPJSL5Iyc    A Never Ending Cycle   \n",
       "998  0ikGD2kxo348Cqxdb2jkzQ               Stay here   \n",
       "999  02kN88Xc8ks3JiKkGrMNpm                    Page   \n",
       "\n",
       "                                 album              artist  \n",
       "0                           Graduation          Kanye West  \n",
       "1               Call on Me (Radio Mix)          Eric Prydz  \n",
       "2    Before the Storm, Special Edition              Darude  \n",
       "3              Circus (Deluxe Version)      Britney Spears  \n",
       "4                      The Eminem Show              Eminem  \n",
       "..                                 ...                 ...  \n",
       "995                         Ever Since     Rickard Nilsson  \n",
       "996                             Purity          Cecile Roy  \n",
       "997               A Never Ending Cycle           Javi Lobe  \n",
       "998                          Stay here       Lara Di Umbra  \n",
       "999                               Page  Hideyuki Hashimoto  \n",
       "\n",
       "[1000 rows x 4 columns]"
      ]
     },
     "execution_count": 19,
     "metadata": {},
     "output_type": "execute_result"
    }
   ],
   "source": [
    "## https://genius.com/api-clients\n",
    "\n",
    "lyrics_subjects = sqlcontext.sql(\"SELECT trackid, name, album, artist FROM songs\")\n",
    "lyrics_subjects.toPandas()"
   ]
  },
  {
   "cell_type": "code",
   "execution_count": 20,
   "metadata": {},
   "outputs": [],
   "source": [
    "os.environ['GENIUS_API_TOKEN']=\"ZqmoUelmG7iZBPQx8a1pn7QAWvThQsw2kmKRRivDle9auDcJg7fQYPy_RKx_jC6q\""
   ]
  },
  {
   "cell_type": "code",
   "execution_count": 84,
   "metadata": {},
   "outputs": [],
   "source": [
    "genius = lyricsgenius.Genius(os.environ.get(\"GENIUS_API_TOKEN\"))\n",
    "column_names = [\"trackid\", \"fulltext\"]\n",
    "words_df = pd.DataFrame(columns = column_names)\n",
    "\n",
    "#for row in df.rdd.collect():\n",
    "#    count+=1\n",
    "#    print(\"Track number \"+str(count)+\" of \"+str(size))\n",
    "    # Format a request URL for the Genius API\n",
    "    #search_term = row.name+\" \"+row.artist\n",
    "\n",
    "def getText(lyrics):\n",
    "    for language in stopwords.fileids():\n",
    "        stop_words=set(stopwords.words(\"english\")) \n",
    "        text_not_stop = [ word for word in lyrics if word not in stop_words ]\n",
    "    return text_not_stop\n",
    "\n",
    "def retrieveLyrics(song):\n",
    "    lyrics = song.lyrics\n",
    "    lyrics = str(lyrics)\n",
    "    lyrics = re.sub('\\[.*\\]','',lyrics) # Remove [Verse] and [Bridge] stuff\n",
    "    lyrics = re.sub('\\n{2}','',lyrics)  # Remove gaps between verses  \n",
    "    lyrics = re.sub('\\n',' ',lyrics) # Remove single \\n\n",
    "    lyrics = lyrics.translate(str.maketrans('', '', string.punctuation))\n",
    "    lyrics = lyrics.lower()\n",
    "    #lyrics = getText(lyrics) #to test\n",
    "    return lyrics\n",
    "\n",
    "def getWords(row):\n",
    "    time.sleep(3)\n",
    "    artist = genius.search_artist(row.artist, max_songs=1, sort=\"title\")\n",
    "    song = artist.song(row.name)\n",
    "    if song is not None:\n",
    "        #lyrics = song.lyrics\n",
    "        #lyrics = str(lyrics)\n",
    "        #lyrics = re.sub('\\[.*\\]','',lyrics) # Remove [Verse] and [Bridge] stuff\n",
    "        #lyrics = re.sub('\\n{2}','',lyrics)  # Remove gaps between verses  \n",
    "        #lyrics = re.sub('\\n',' ',lyrics) # Remove single \\n\n",
    "        #lyrics = lyrics.translate(str.maketrans('', '', string.punctuation))\n",
    "        #lyrics = lyrics.lower()\n",
    "        #word = lyrics.split()   #tokenizing all the lyrics body into individual words\n",
    "        \n",
    "        #for language in stopwords.fileids():\n",
    "        #    stop_words=set(stopwords.words(\"english\")) \n",
    "        #    text_not_stop = [ word for word in lyrics if word not in stop_words ]\n",
    "        #print(retrieveLyrics(song))\n",
    "        dat = pd.DataFrame.from_dict({'trackid': row.trackid, 'fulltext': [retrieveLyrics(song)] })\n",
    "        return dat\n",
    "    # words_df = words_df.append(words_df2, ignore_index = True)\n",
    "\n",
    "#words_df = words_df.append(results)"
   ]
  },
  {
   "cell_type": "code",
   "execution_count": null,
   "metadata": {},
   "outputs": [],
   "source": [
    "try:\n",
    "    print(multiprocessing.cpu_count()-1)\n",
    "    p = Pool(processes = (multiprocessing.cpu_count() - 1))\n",
    "    words_df = words_df.append(p.map(getWords, df.rdd.collect()[:300]))\n",
    "finally:\n",
    "    p.close()\n",
    "    p.join()"
   ]
  },
  {
   "cell_type": "code",
   "execution_count": 40,
   "metadata": {},
   "outputs": [
    {
     "data": {
      "text/html": [
       "<div>\n",
       "<style scoped>\n",
       "    .dataframe tbody tr th:only-of-type {\n",
       "        vertical-align: middle;\n",
       "    }\n",
       "\n",
       "    .dataframe tbody tr th {\n",
       "        vertical-align: top;\n",
       "    }\n",
       "\n",
       "    .dataframe thead th {\n",
       "        text-align: right;\n",
       "    }\n",
       "</style>\n",
       "<table border=\"1\" class=\"dataframe\">\n",
       "  <thead>\n",
       "    <tr style=\"text-align: right;\">\n",
       "      <th></th>\n",
       "      <th>trackid</th>\n",
       "      <th>fulltext</th>\n",
       "    </tr>\n",
       "  </thead>\n",
       "  <tbody>\n",
       "    <tr>\n",
       "      <th>0</th>\n",
       "      <td>4fzsfWzRhPawzqhX8Qt9F3</td>\n",
       "      <td>work it make it do it makes us harder better ...</td>\n",
       "    </tr>\n",
       "    <tr>\n",
       "      <th>0</th>\n",
       "      <td>1xNcBAoUw8Hz6LqK2jt4Ff</td>\n",
       "      <td>call on me call on me call on me call on me ca...</td>\n",
       "    </tr>\n",
       "    <tr>\n",
       "      <th>0</th>\n",
       "      <td>6Sy9BUbgFse0n0LPA5lwy5</td>\n",
       "      <td>duuuuuuuuuuuuuuuuuuuuuuun dun dun dun dun dun...</td>\n",
       "    </tr>\n",
       "    <tr>\n",
       "      <th>0</th>\n",
       "      <td>7jk7gqyEonmVVYahZN5zhW</td>\n",
       "      <td>theres only two types of people in the world ...</td>\n",
       "    </tr>\n",
       "    <tr>\n",
       "      <th>0</th>\n",
       "      <td>4xkOaSrkexMciUUogZKVTS</td>\n",
       "      <td>cause sometimes you just feel tired yo left y...</td>\n",
       "    </tr>\n",
       "    <tr>\n",
       "      <th>...</th>\n",
       "      <td>...</td>\n",
       "      <td>...</td>\n",
       "    </tr>\n",
       "    <tr>\n",
       "      <th>0</th>\n",
       "      <td>50fXFVykkwS6Om9eqjTK44</td>\n",
       "      <td>take my hand let me make you mine im through ...</td>\n",
       "    </tr>\n",
       "    <tr>\n",
       "      <th>0</th>\n",
       "      <td>3HGnIIdHYIbkowzLk8UHbE</td>\n",
       "      <td>the weeknd  take my breath aventura  volví jac...</td>\n",
       "    </tr>\n",
       "    <tr>\n",
       "      <th>0</th>\n",
       "      <td>1tf4Bfk8JIKryLpWYRvyiI</td>\n",
       "      <td>its been a downpour beating on the tin roof it...</td>\n",
       "    </tr>\n",
       "    <tr>\n",
       "      <th>0</th>\n",
       "      <td>69AIpwGNLxr4qS1X5ynx60</td>\n",
       "      <td>few days before he turned 80 he was sitting o...</td>\n",
       "    </tr>\n",
       "    <tr>\n",
       "      <th>0</th>\n",
       "      <td>1AIlY4mVcOY34SNA4CTVbC</td>\n",
       "      <td>brown bag bottle and a burnt cd turn it up jo...</td>\n",
       "    </tr>\n",
       "  </tbody>\n",
       "</table>\n",
       "<p>290 rows × 2 columns</p>\n",
       "</div>"
      ],
      "text/plain": [
       "                   trackid                                           fulltext\n",
       "0   4fzsfWzRhPawzqhX8Qt9F3   work it make it do it makes us harder better ...\n",
       "0   1xNcBAoUw8Hz6LqK2jt4Ff  call on me call on me call on me call on me ca...\n",
       "0   6Sy9BUbgFse0n0LPA5lwy5   duuuuuuuuuuuuuuuuuuuuuuun dun dun dun dun dun...\n",
       "0   7jk7gqyEonmVVYahZN5zhW   theres only two types of people in the world ...\n",
       "0   4xkOaSrkexMciUUogZKVTS   cause sometimes you just feel tired yo left y...\n",
       "..                     ...                                                ...\n",
       "0   50fXFVykkwS6Om9eqjTK44   take my hand let me make you mine im through ...\n",
       "0   3HGnIIdHYIbkowzLk8UHbE  the weeknd  take my breath aventura  volví jac...\n",
       "0   1tf4Bfk8JIKryLpWYRvyiI  its been a downpour beating on the tin roof it...\n",
       "0   69AIpwGNLxr4qS1X5ynx60   few days before he turned 80 he was sitting o...\n",
       "0   1AIlY4mVcOY34SNA4CTVbC   brown bag bottle and a burnt cd turn it up jo...\n",
       "\n",
       "[290 rows x 2 columns]"
      ]
     },
     "execution_count": 40,
     "metadata": {},
     "output_type": "execute_result"
    }
   ],
   "source": [
    "words_df"
   ]
  },
  {
   "cell_type": "code",
   "execution_count": 58,
   "metadata": {},
   "outputs": [],
   "source": [
    "def getEmotions(words_df):\n",
    "    column_names = ['trackid', 'words', 'Positive','Negative','Anger','Anticipation','Disgust','Fear','Joy','Sadness','Surprise','Trust']\n",
    "    emolex_df = pd.DataFrame(columns = column_names)\n",
    "\n",
    "    for index, row in words_df.iterrows():\n",
    "        text = row['fulltext']\n",
    "        text_object = NRCLex(text)\n",
    "\n",
    "        if 'positive' in text_object.raw_emotion_scores.keys() :\n",
    "            positive = text_object.raw_emotion_scores['positive']\n",
    "        else:\n",
    "            positive = 0\n",
    "\n",
    "        if 'negative' in text_object.raw_emotion_scores.keys() :\n",
    "            negative = text_object.raw_emotion_scores['negative']\n",
    "        else:\n",
    "            negative = 0\n",
    "\n",
    "        if 'anger' in text_object.raw_emotion_scores.keys() :\n",
    "            anger = text_object.raw_emotion_scores['anger']\n",
    "        else:\n",
    "            anger = 0\n",
    "\n",
    "        if 'anticipation' in text_object.raw_emotion_scores.keys() :\n",
    "            anticipation = text_object.raw_emotion_scores['anticipation']\n",
    "        else:\n",
    "            anticipation = 0\n",
    "\n",
    "        if 'disgust' in text_object.raw_emotion_scores.keys() :\n",
    "            disgust = text_object.raw_emotion_scores['disgust']\n",
    "        else:\n",
    "            disgust = 0\n",
    "\n",
    "        if 'fear' in text_object.raw_emotion_scores.keys() :\n",
    "            fear = text_object.raw_emotion_scores['fear']\n",
    "        else:\n",
    "            fear = 0\n",
    "\n",
    "        if 'joy' in text_object.raw_emotion_scores.keys() :\n",
    "            joy = text_object.raw_emotion_scores['joy']\n",
    "        else:\n",
    "            joy = 0\n",
    "\n",
    "        if 'sadness' in text_object.raw_emotion_scores.keys() :\n",
    "            sadness = text_object.raw_emotion_scores['sadness']\n",
    "        else:\n",
    "            sadness = 0\n",
    "\n",
    "        if 'surprise' in text_object.raw_emotion_scores.keys() :\n",
    "            surprise = text_object.raw_emotion_scores['surprise']\n",
    "        else:\n",
    "            surprise = 0\n",
    "\n",
    "        if 'trust' in text_object.raw_emotion_scores.keys() :\n",
    "            trust = text_object.raw_emotion_scores['trust']\n",
    "        else:\n",
    "            trust = 0\n",
    "\n",
    "        emolex_df2 = {'trackid': row.trackid, \n",
    "                      'words': text_object.words,\n",
    "                      'Positive': positive,\n",
    "                      'Negative': negative,\n",
    "                      'Anger': anger,\n",
    "                      'Anticipation': anticipation,\n",
    "                      'Disgust': disgust,\n",
    "                      'Fear': fear,\n",
    "                      'Joy': joy,\n",
    "                      'Sadness': sadness,\n",
    "                      'Surprise': surprise,\n",
    "                      'Trust': trust }\n",
    "\n",
    "        emolex_df = emolex_df.append(emolex_df2, ignore_index = True)\n",
    "        \n",
    "    return emolex_df\n"
   ]
  },
  {
   "cell_type": "code",
   "execution_count": 59,
   "metadata": {},
   "outputs": [
    {
     "data": {
      "text/html": [
       "<div>\n",
       "<style scoped>\n",
       "    .dataframe tbody tr th:only-of-type {\n",
       "        vertical-align: middle;\n",
       "    }\n",
       "\n",
       "    .dataframe tbody tr th {\n",
       "        vertical-align: top;\n",
       "    }\n",
       "\n",
       "    .dataframe thead th {\n",
       "        text-align: right;\n",
       "    }\n",
       "</style>\n",
       "<table border=\"1\" class=\"dataframe\">\n",
       "  <thead>\n",
       "    <tr style=\"text-align: right;\">\n",
       "      <th></th>\n",
       "      <th>trackid</th>\n",
       "      <th>words</th>\n",
       "      <th>Positive</th>\n",
       "      <th>Negative</th>\n",
       "      <th>Anger</th>\n",
       "      <th>Anticipation</th>\n",
       "      <th>Disgust</th>\n",
       "      <th>Fear</th>\n",
       "      <th>Joy</th>\n",
       "      <th>Sadness</th>\n",
       "      <th>Surprise</th>\n",
       "      <th>Trust</th>\n",
       "    </tr>\n",
       "  </thead>\n",
       "  <tbody>\n",
       "    <tr>\n",
       "      <th>0</th>\n",
       "      <td>4fzsfWzRhPawzqhX8Qt9F3</td>\n",
       "      <td>[work, it, make, it, do, it, makes, us, harder...</td>\n",
       "      <td>13</td>\n",
       "      <td>19</td>\n",
       "      <td>7</td>\n",
       "      <td>17</td>\n",
       "      <td>5</td>\n",
       "      <td>8</td>\n",
       "      <td>5</td>\n",
       "      <td>9</td>\n",
       "      <td>2</td>\n",
       "      <td>7</td>\n",
       "    </tr>\n",
       "    <tr>\n",
       "      <th>1</th>\n",
       "      <td>1xNcBAoUw8Hz6LqK2jt4Ff</td>\n",
       "      <td>[call, on, me, call, on, me, call, on, me, cal...</td>\n",
       "      <td>0</td>\n",
       "      <td>8</td>\n",
       "      <td>0</td>\n",
       "      <td>0</td>\n",
       "      <td>8</td>\n",
       "      <td>0</td>\n",
       "      <td>0</td>\n",
       "      <td>0</td>\n",
       "      <td>0</td>\n",
       "      <td>0</td>\n",
       "    </tr>\n",
       "    <tr>\n",
       "      <th>2</th>\n",
       "      <td>6Sy9BUbgFse0n0LPA5lwy5</td>\n",
       "      <td>[duuuuuuuuuuuuuuuuuuuuuuun, dun, dun, dun, dun...</td>\n",
       "      <td>0</td>\n",
       "      <td>41</td>\n",
       "      <td>0</td>\n",
       "      <td>0</td>\n",
       "      <td>0</td>\n",
       "      <td>0</td>\n",
       "      <td>0</td>\n",
       "      <td>0</td>\n",
       "      <td>0</td>\n",
       "      <td>0</td>\n",
       "    </tr>\n",
       "    <tr>\n",
       "      <th>3</th>\n",
       "      <td>7jk7gqyEonmVVYahZN5zhW</td>\n",
       "      <td>[theres, only, two, types, of, people, in, the...</td>\n",
       "      <td>19</td>\n",
       "      <td>9</td>\n",
       "      <td>6</td>\n",
       "      <td>10</td>\n",
       "      <td>0</td>\n",
       "      <td>1</td>\n",
       "      <td>12</td>\n",
       "      <td>0</td>\n",
       "      <td>9</td>\n",
       "      <td>20</td>\n",
       "    </tr>\n",
       "    <tr>\n",
       "      <th>4</th>\n",
       "      <td>4xkOaSrkexMciUUogZKVTS</td>\n",
       "      <td>[cause, sometimes, you, just, feel, tired, yo,...</td>\n",
       "      <td>17</td>\n",
       "      <td>45</td>\n",
       "      <td>26</td>\n",
       "      <td>7</td>\n",
       "      <td>28</td>\n",
       "      <td>27</td>\n",
       "      <td>4</td>\n",
       "      <td>23</td>\n",
       "      <td>12</td>\n",
       "      <td>12</td>\n",
       "    </tr>\n",
       "    <tr>\n",
       "      <th>...</th>\n",
       "      <td>...</td>\n",
       "      <td>...</td>\n",
       "      <td>...</td>\n",
       "      <td>...</td>\n",
       "      <td>...</td>\n",
       "      <td>...</td>\n",
       "      <td>...</td>\n",
       "      <td>...</td>\n",
       "      <td>...</td>\n",
       "      <td>...</td>\n",
       "      <td>...</td>\n",
       "      <td>...</td>\n",
       "    </tr>\n",
       "    <tr>\n",
       "      <th>285</th>\n",
       "      <td>50fXFVykkwS6Om9eqjTK44</td>\n",
       "      <td>[take, my, hand, let, me, make, you, mine, im,...</td>\n",
       "      <td>9</td>\n",
       "      <td>10</td>\n",
       "      <td>1</td>\n",
       "      <td>11</td>\n",
       "      <td>1</td>\n",
       "      <td>5</td>\n",
       "      <td>6</td>\n",
       "      <td>5</td>\n",
       "      <td>1</td>\n",
       "      <td>1</td>\n",
       "    </tr>\n",
       "    <tr>\n",
       "      <th>286</th>\n",
       "      <td>3HGnIIdHYIbkowzLk8UHbE</td>\n",
       "      <td>[the, weeknd, take, my, breath, aventura, volv...</td>\n",
       "      <td>46</td>\n",
       "      <td>31</td>\n",
       "      <td>17</td>\n",
       "      <td>39</td>\n",
       "      <td>10</td>\n",
       "      <td>13</td>\n",
       "      <td>37</td>\n",
       "      <td>19</td>\n",
       "      <td>41</td>\n",
       "      <td>21</td>\n",
       "    </tr>\n",
       "    <tr>\n",
       "      <th>287</th>\n",
       "      <td>1tf4Bfk8JIKryLpWYRvyiI</td>\n",
       "      <td>[its, been, a, downpour, beating, on, the, tin...</td>\n",
       "      <td>9</td>\n",
       "      <td>14</td>\n",
       "      <td>3</td>\n",
       "      <td>9</td>\n",
       "      <td>3</td>\n",
       "      <td>12</td>\n",
       "      <td>4</td>\n",
       "      <td>16</td>\n",
       "      <td>5</td>\n",
       "      <td>3</td>\n",
       "    </tr>\n",
       "    <tr>\n",
       "      <th>288</th>\n",
       "      <td>69AIpwGNLxr4qS1X5ynx60</td>\n",
       "      <td>[few, days, before, he, turned, 80, he, was, s...</td>\n",
       "      <td>28</td>\n",
       "      <td>11</td>\n",
       "      <td>9</td>\n",
       "      <td>19</td>\n",
       "      <td>11</td>\n",
       "      <td>3</td>\n",
       "      <td>19</td>\n",
       "      <td>0</td>\n",
       "      <td>7</td>\n",
       "      <td>25</td>\n",
       "    </tr>\n",
       "    <tr>\n",
       "      <th>289</th>\n",
       "      <td>1AIlY4mVcOY34SNA4CTVbC</td>\n",
       "      <td>[brown, bag, bottle, and, a, burnt, cd, turn, ...</td>\n",
       "      <td>13</td>\n",
       "      <td>9</td>\n",
       "      <td>0</td>\n",
       "      <td>5</td>\n",
       "      <td>2</td>\n",
       "      <td>0</td>\n",
       "      <td>6</td>\n",
       "      <td>4</td>\n",
       "      <td>1</td>\n",
       "      <td>9</td>\n",
       "    </tr>\n",
       "  </tbody>\n",
       "</table>\n",
       "<p>290 rows × 12 columns</p>\n",
       "</div>"
      ],
      "text/plain": [
       "                    trackid  \\\n",
       "0    4fzsfWzRhPawzqhX8Qt9F3   \n",
       "1    1xNcBAoUw8Hz6LqK2jt4Ff   \n",
       "2    6Sy9BUbgFse0n0LPA5lwy5   \n",
       "3    7jk7gqyEonmVVYahZN5zhW   \n",
       "4    4xkOaSrkexMciUUogZKVTS   \n",
       "..                      ...   \n",
       "285  50fXFVykkwS6Om9eqjTK44   \n",
       "286  3HGnIIdHYIbkowzLk8UHbE   \n",
       "287  1tf4Bfk8JIKryLpWYRvyiI   \n",
       "288  69AIpwGNLxr4qS1X5ynx60   \n",
       "289  1AIlY4mVcOY34SNA4CTVbC   \n",
       "\n",
       "                                                 words Positive Negative  \\\n",
       "0    [work, it, make, it, do, it, makes, us, harder...       13       19   \n",
       "1    [call, on, me, call, on, me, call, on, me, cal...        0        8   \n",
       "2    [duuuuuuuuuuuuuuuuuuuuuuun, dun, dun, dun, dun...        0       41   \n",
       "3    [theres, only, two, types, of, people, in, the...       19        9   \n",
       "4    [cause, sometimes, you, just, feel, tired, yo,...       17       45   \n",
       "..                                                 ...      ...      ...   \n",
       "285  [take, my, hand, let, me, make, you, mine, im,...        9       10   \n",
       "286  [the, weeknd, take, my, breath, aventura, volv...       46       31   \n",
       "287  [its, been, a, downpour, beating, on, the, tin...        9       14   \n",
       "288  [few, days, before, he, turned, 80, he, was, s...       28       11   \n",
       "289  [brown, bag, bottle, and, a, burnt, cd, turn, ...       13        9   \n",
       "\n",
       "    Anger Anticipation Disgust Fear Joy Sadness Surprise Trust  \n",
       "0       7           17       5    8   5       9        2     7  \n",
       "1       0            0       8    0   0       0        0     0  \n",
       "2       0            0       0    0   0       0        0     0  \n",
       "3       6           10       0    1  12       0        9    20  \n",
       "4      26            7      28   27   4      23       12    12  \n",
       "..    ...          ...     ...  ...  ..     ...      ...   ...  \n",
       "285     1           11       1    5   6       5        1     1  \n",
       "286    17           39      10   13  37      19       41    21  \n",
       "287     3            9       3   12   4      16        5     3  \n",
       "288     9           19      11    3  19       0        7    25  \n",
       "289     0            5       2    0   6       4        1     9  \n",
       "\n",
       "[290 rows x 12 columns]"
      ]
     },
     "execution_count": 59,
     "metadata": {},
     "output_type": "execute_result"
    }
   ],
   "source": [
    "emolex_df = getEmotions(words_df)"
   ]
  },
  {
   "cell_type": "code",
   "execution_count": 43,
   "metadata": {},
   "outputs": [
    {
     "data": {
      "text/plain": [
       "(290, 290)"
      ]
     },
     "execution_count": 43,
     "metadata": {},
     "output_type": "execute_result"
    }
   ],
   "source": [
    "scores_df=emolex_df[['Positive','Negative','Anger','Anticipation','Disgust','Fear','Joy','Sadness','Surprise','Trust']]\n",
    "cosine_sim=cosine_similarity(scores_df,scores_df)\n",
    "cosine_sim.shape"
   ]
  },
  {
   "cell_type": "code",
   "execution_count": 44,
   "metadata": {},
   "outputs": [
    {
     "data": {
      "text/plain": [
       "array([1.        , 0.50800051, 0.56875012, 0.73846246, 0.84357866,\n",
       "       0.85881626, 0.78032437, 0.87731213, 0.47894747, 0.77857634,\n",
       "       0.8828386 , 0.90232772, 0.94710628, 0.86531148, 0.79110371,\n",
       "       0.78280348, 0.67284803, 0.92589804, 0.8652194 , 0.8063596 ,\n",
       "       0.86878016, 0.85919895, 0.92666699, 0.85583783, 0.89535582,\n",
       "       0.72590476, 0.87596558, 0.92285937, 0.84359598, 0.90751983,\n",
       "       0.77090764, 0.81277544, 0.78302536, 0.89095865, 0.76250096,\n",
       "       0.65356374, 0.71743672, 0.92271021, 0.82250031, 0.89597358,\n",
       "       0.91256304, 0.85047118, 0.77188713, 0.73890096, 0.66788745,\n",
       "       0.68705705, 0.67603659, 0.33102641, 0.71426396, 0.82923618,\n",
       "       0.85740543, 0.86649556, 0.92179141, 0.80048271, 0.84323586,\n",
       "       0.49027817, 0.8698577 , 0.90489478, 0.83180164, 0.88537446,\n",
       "       0.89020598, 0.86373639, 0.80343037, 0.91645069, 0.97963654,\n",
       "       0.7991994 , 0.83500431, 0.73338832, 0.94053642, 0.90070497,\n",
       "       0.66950766, 0.8791138 , 0.87251028, 0.66883801, 0.86186158,\n",
       "       0.78686594, 0.87695229, 0.79170438, 0.8606789 , 0.80664753,\n",
       "       0.90067808, 0.81454338, 0.81746   , 0.85183632, 0.76201939,\n",
       "       0.83614952, 0.92099867, 0.90908291, 0.90563863, 0.82685655,\n",
       "       0.86806178, 0.81189431, 0.94297685, 0.90879592, 0.83901586,\n",
       "       0.91780251, 0.86863457, 0.89692825, 0.78673835, 0.75760671,\n",
       "       0.9256337 , 0.83937514, 0.86147624, 0.84162844, 0.94249907,\n",
       "       0.68066937, 0.67821139, 0.5993983 , 0.77402406, 0.86457823,\n",
       "       0.89092428, 0.67494797, 0.70065759, 0.68003901, 0.84083044,\n",
       "       0.82618439, 0.95544583, 0.93898672, 0.92889799, 0.83301069,\n",
       "       0.90563863, 0.94562985, 0.85413811, 0.92775379, 0.92217438,\n",
       "       0.91175313, 0.87231971, 0.94382217, 0.86567272, 0.74522601,\n",
       "       0.95596677, 0.61992871, 0.82027012, 0.90751145, 0.93957688,\n",
       "       0.80767858, 0.92282382, 0.89919841, 0.75296407, 0.88176278,\n",
       "       0.8011703 , 0.87277654, 0.94769849, 0.94571019, 0.81967013,\n",
       "       0.64280319, 0.91301739, 0.84802714, 0.87246558, 0.61989459,\n",
       "       0.86142265, 0.80032452, 0.87952469, 0.91756397, 0.91323333,\n",
       "       0.82092009, 0.9030997 , 0.92834001, 0.90927504, 0.82046244,\n",
       "       0.92282382, 0.72568221, 0.86147624, 0.92735403, 0.79330626,\n",
       "       0.82564111, 0.78310324, 0.82144903, 0.80166035, 0.8402583 ,\n",
       "       0.87564289, 0.69711634, 0.8433803 , 0.75120601, 0.94800225,\n",
       "       0.84797021, 0.93810795, 0.        , 0.87045414, 0.87499861,\n",
       "       0.50248666, 0.76532292, 0.80505845, 0.        , 0.82961626,\n",
       "       0.85825738, 0.96958593, 0.90728731, 0.90163941, 0.79323189,\n",
       "       0.74822678, 0.75064495, 0.8746306 , 0.65788495, 0.89275945,\n",
       "       0.9194199 , 0.91691714, 0.79782379, 0.85996888, 0.94252022,\n",
       "       0.87840709, 0.75659068, 0.85600124, 0.90203696, 0.79325675,\n",
       "       0.77895425, 0.87499861, 0.91986898, 0.66554511, 0.        ,\n",
       "       0.8135411 , 0.82342967, 0.87045414, 0.83555703, 0.71489971,\n",
       "       0.81895822, 0.73361761, 0.83042859, 0.78848552, 0.78931331,\n",
       "       0.87045414, 0.38100038, 0.8576548 , 0.71694244, 0.56875012,\n",
       "       0.80505845, 0.87045414, 0.84749725, 0.82311464, 0.84597625,\n",
       "       0.79424459, 0.82552483, 0.73707727, 0.91545925, 0.79782379,\n",
       "       0.80505845, 0.80505845, 0.85408752, 0.82961626, 0.83311001,\n",
       "       0.82961626, 0.87045414, 0.87616496, 0.85600124, 0.95060474,\n",
       "       0.76934059, 0.90473678, 0.82961626, 0.9218034 , 0.87041636,\n",
       "       0.79782379, 0.76934059, 0.76934059, 0.83113305, 0.79782379,\n",
       "       0.89788834, 0.76934059, 0.76934059, 0.76376205, 0.90539866,\n",
       "       0.96958593, 0.80505845, 0.79994262, 0.90097394, 0.86009255,\n",
       "       0.76934059, 0.83045352, 0.89542605, 0.86587035, 0.93006833,\n",
       "       0.80505845, 0.8674054 , 0.86264663, 0.83311001, 0.93448896,\n",
       "       0.85825738, 0.76934059, 0.87041532, 0.75274983, 0.8757773 ,\n",
       "       0.23947374, 0.79994262, 0.78456997, 0.77554956, 0.85413965,\n",
       "       0.95250095, 0.85408752, 0.89885301, 0.789568  , 0.83369905])"
      ]
     },
     "execution_count": 44,
     "metadata": {},
     "output_type": "execute_result"
    }
   ],
   "source": [
    "cosine_sim[0]"
   ]
  },
  {
   "cell_type": "code",
   "execution_count": 45,
   "metadata": {},
   "outputs": [],
   "source": [
    "indices=pd.Series(emolex_df.index, emolex_df['trackid']).drop_duplicates()"
   ]
  },
  {
   "cell_type": "code",
   "execution_count": 46,
   "metadata": {},
   "outputs": [],
   "source": [
    "def get_recommendations(title,indices,cosine_sim=cosine_sim):\n",
    "    index=indices[title]\n",
    "    sim_scores = list(enumerate(cosine_sim[index]))\n",
    "    sim_scores = sorted(sim_scores, key=lambda x: x[1], reverse=True)\n",
    "    sim_scores = sim_scores[1:11]\n",
    "    song_indices = [i[0] for i in sim_scores]\n",
    "    return emolex_df['trackid'].iloc[song_indices]"
   ]
  },
  {
   "cell_type": "code",
   "execution_count": 47,
   "metadata": {},
   "outputs": [
    {
     "data": {
      "text/plain": [
       "64     7dyluIqv7QYVTXXZiMWPHW\n",
       "186    27NovPIUIRrOZoCHxABJwK\n",
       "260    27NovPIUIRrOZoCHxABJwK\n",
       "130    3YRCqOhFifThpSRFJ1VWFM\n",
       "116    1xShPgQbOUa98avWJQFDBY\n",
       "285    50fXFVykkwS6Om9eqjTK44\n",
       "244    5ChX0Yt1wPpRJFPPecJZPh\n",
       "174    0vSiz90JRxvYsbCTx84oVM\n",
       "142    2SiXAy7TuUkycRVbbWDEpo\n",
       "12     4fbaKWFRghusXd4bSBvvfN\n",
       "Name: trackid, dtype: object"
      ]
     },
     "execution_count": 47,
     "metadata": {},
     "output_type": "execute_result"
    }
   ],
   "source": [
    "get_recommendations('4fzsfWzRhPawzqhX8Qt9F3',indices)"
   ]
  },
  {
   "cell_type": "markdown",
   "metadata": {
    "application/vnd.databricks.v1+cell": {
     "inputWidgets": {},
     "nuid": "caeb868a-ee81-46fb-9fe0-e45b13b14760",
     "showTitle": false,
     "title": ""
    }
   },
   "source": [
    "# APPLICATION"
   ]
  },
  {
   "cell_type": "code",
   "execution_count": 62,
   "metadata": {
    "application/vnd.databricks.v1+cell": {
     "inputWidgets": {},
     "nuid": "5c470607-054f-44eb-8842-d5bef0019d6e",
     "showTitle": false,
     "title": ""
    }
   },
   "outputs": [],
   "source": [
    "if isDatabricks:\n",
    "    dbutils.widgets.removeAll()"
   ]
  },
  {
   "cell_type": "code",
   "execution_count": 63,
   "metadata": {
    "application/vnd.databricks.v1+cell": {
     "inputWidgets": {},
     "nuid": "2ee59862-0fcb-4fd1-9f73-1a50c261ca42",
     "showTitle": false,
     "title": ""
    }
   },
   "outputs": [],
   "source": [
    "class PlayListAndName:\n",
    "    def __init__(self, name, id):\n",
    "        self.name = name\n",
    "        self.id = id"
   ]
  },
  {
   "cell_type": "code",
   "execution_count": 64,
   "metadata": {
    "application/vnd.databricks.v1+cell": {
     "inputWidgets": {},
     "nuid": "c0ac9b91-9ff5-48f8-95e4-6c106c7cc9ec",
     "showTitle": false,
     "title": ""
    }
   },
   "outputs": [
    {
     "name": "stdout",
     "output_type": "stream",
     "text": [
      "3igu3ANoW7hOw4pRFGQv10\n",
      "7kaOZ9dEqJxg4dVz1pRqTa\n",
      "0thLEQUrH9FXBSS3cDPBZa\n",
      "5dTzrmFjY2BC0NqdPGoVEn\n",
      "76jvxV82ehXXoLUsBXyJgp\n",
      "35V5UEjIbdlHrwJT3oKM86\n",
      "1g0etR4iS0u47QabBxYHLl\n",
      "1eRI66Z8VdSHht95eGzKel\n",
      "6vDGVr652ztNWKZuHvsFvx\n",
      "37i9dQZF1DX0pH2SQMRXnC\n",
      "3B4L1OptCi2otEOdrkxmDy\n",
      "4Fyt2PWZxfUSOEm6hHOW7y\n",
      "37i9dQZF1DXdLEN7aqioXM\n",
      "37i9dQZF1DX32NsLKyzScr\n",
      "37i9dQZF1DXaXB8fQg7xif\n",
      "37i9dQZF1DX6wfQutivYYr\n",
      "3hkeGEycSrpHNdOyDHnFvs\n",
      "37i9dQZF1DWWMOmoXKqHTD\n",
      "37i9dQZF1DWTC6XnyUt7U3\n",
      "37i9dQZF1DX3rxVfibe1L0\n",
      "37i9dQZF1DX3sDhLvLnzj8\n",
      "2ncHRikVRNuiJzNcDuA7P8\n",
      "37i9dQZF1DX186v583rmzp\n",
      "2Cql7GHF4jWdcrIX7goZBW\n",
      "37i9dQZF1DWWavShqgIPsw\n",
      "6Oz4nqcXcZPYmcBYNkRmFP\n"
     ]
    }
   ],
   "source": [
    "myuser = '11154156130'\n",
    "playlists = sp.user_playlists(myuser) #vulgs3g7788xjy1yu1plzoart #11154156130\n",
    "user_playlists_id = []\n",
    "playlists_names = [] \n",
    "for item in playlists['items']:\n",
    "    print(item['id'])\n",
    "    user_playlists_id.append(PlayListAndName(item['name'], item['id']))\n",
    "    playlists_names.append(item['name'])"
   ]
  },
  {
   "cell_type": "code",
   "execution_count": 100,
   "metadata": {},
   "outputs": [],
   "source": [
    "result_km = None\n",
    "\n",
    "def calculateKM(name, create_playlist, emotions):\n",
    "    \n",
    "    ### BASIC RECCOMENDATION USING K-MEANS\n",
    "    user_tracks_ids = []\n",
    "    \n",
    "    for plys in user_playlists_id:\n",
    "        if plys.name == name:\n",
    "            playlist = sp.user_playlist(myuser, plys.id)\n",
    "            for item in playlist['tracks']['items']: #[:50]:\n",
    "                track = item['track']\n",
    "                if track is not None:\n",
    "                    user_tracks_ids.append(track['id'])  \n",
    "    user_tracks = []\n",
    "    \n",
    "    for i in range(len(user_tracks_ids)):\n",
    "        sys.stdout.write(\"\\rProcessing Track Number %i\" % i)\n",
    "        sys.stdout.write(\"\\Tracks Number %i\" % len(user_tracks_ids))\n",
    "        sys.stdout.flush()\n",
    "        try:\n",
    "            track = getTrackFeatures(user_tracks_ids[i])\n",
    "            user_tracks.append(track)\n",
    "        except:\n",
    "            pass\n",
    "    print(user_tracks)   \n",
    "    userdf = pd.DataFrame(user_tracks, columns = ['trackid', 'name', 'album', 'artist', 'release_date', 'length', 'popularity', 'danceability', 'acousticness', 'energy', 'instrumentalness', 'liveness', 'loudness', 'speechiness', 'tempo', 'time_signature'])\n",
    "    userdf = spark.createDataFrame(userdf)\n",
    "    userdf.createOrReplaceTempView(myuser+\"songs\")\n",
    "    myuser_spark_dataset = sqlcontext.sql(\"SELECT * FROM \"+myuser+\"songs\")\n",
    "    myuser_spark_dataset = myuser_spark_dataset.dropna()\n",
    "    new_myuser_df = vecAssembler.transform(myuser_spark_dataset)\n",
    "    myuser_data_scale=scale.fit(new_myuser_df)\n",
    "    myuser_data_scale_output=myuser_data_scale.transform(new_myuser_df)\n",
    "    myuser_output=KMeans_fit.transform(myuser_data_scale_output)\n",
    "\n",
    "    recommender_km = myuser_output.select(myuser_output[\"prediction\"]).drop_duplicates()\n",
    "    reccomender_result_km = kmoutsql.join(recommender_km, [\"prediction\"], \"inner\")\n",
    "    result_km = reccomender_result_km.drop_duplicates().sort(reccomender_result_km.popularity.desc()).drop(\"standardized\").limit(15)\n",
    "    \n",
    "    track_list = result_km.select('trackid').collect()\n",
    "    \n",
    "    ## USING LYRICS EMOTION\n",
    "    if emotions :\n",
    "        column_names = [\"trackid\", \"fulltext\"]\n",
    "        user_words_df = pd.DataFrame(columns = column_names)\n",
    "\n",
    "        try:\n",
    "            print(multiprocessing.cpu_count()-1)\n",
    "            p = Pool(processes = (multiprocessing.cpu_count() - 1))\n",
    "            user_words_df = user_words_df.append(p.map(getWords, userdf.rdd.collect()))\n",
    "        finally:\n",
    "            p.close()\n",
    "            p.join()\n",
    "        print(user_words_df)\n",
    "        user_words_df = getEmotions(user_words_df)\n",
    "        user_scores_df=user_words_df[['Positive','Negative','Anger','Anticipation','Disgust','Fear','Joy','Sadness','Surprise','Trust']]\n",
    "        user_cosine_sim=cosine_similarity(user_scores_df,scores_df)\n",
    "        \n",
    "        emotion_tracks = []\n",
    "        for index, row in user_words_df.iterrows():\n",
    "            user_indices=pd.Series(user_words_df.index, user_words_df['trackid']).drop_duplicates()\n",
    "            em = get_recommendations(row['trackid'],user_indices,user_cosine_sim)\n",
    "            emotion_tracks.append(em)\n",
    "    \n",
    "        emotion_tracks_as_set = set(emotion_tracks)\n",
    "        intersection = emotion_tracks_as_set.intersection(track_list)\n",
    "        track_list = list(intersection)\n",
    "        \n",
    "    ## CREATE PLAYLIST SECTION\n",
    "    if create_playlist :\n",
    "        x = uuid.uuid1()\n",
    "        playlist_name = \"Generated playlist \"+str(x)+\"for user \"+myuser\n",
    "        playlistid = sp.user_playlist_create(\"11154156130\", playlist_name, public=False, description='Generated playlist from ML Databricks')\n",
    "        tracks_to_add = []\n",
    "        for single_track in track_list :\n",
    "            tracks_to_add.append(single_track.trackid)\n",
    "        sp.user_playlist_add_tracks(myuser, playlistid['uri'], tracks_to_add)\n",
    "        \n",
    "    return track_list.toPandas()"
   ]
  },
  {
   "cell_type": "code",
   "execution_count": 101,
   "metadata": {},
   "outputs": [],
   "source": [
    "if isDatabricks :\n",
    "    dbutils.widgets.dropdown(\"names\", playlists_names[0], [playlists_names[x] for x in range(len(playlists_names))], \"Choose a playlist for user \"+myuser)\n",
    "else:\n",
    "    user_stats = interact_manual(calculateKM, name=widgets.Dropdown(options=playlists_names), create_playlist=widgets.Dropdown(options=[True, False]), emotions=widgets.Dropdown(options=[True, False]))"
   ]
  },
  {
   "cell_type": "code",
   "execution_count": 96,
   "metadata": {
    "application/vnd.databricks.v1+cell": {
     "inputWidgets": {},
     "nuid": "84b098a9-9e1c-40d5-b363-ad347ba05770",
     "showTitle": false,
     "title": ""
    }
   },
   "outputs": [],
   "source": [
    "try:\n",
    "    val = getArgument(\"names\")\n",
    "except:\n",
    "    pass\n",
    "    \n",
    "if isDatabricks:\n",
    "    calculateKM(val)"
   ]
  },
  {
   "cell_type": "code",
   "execution_count": null,
   "metadata": {},
   "outputs": [],
   "source": []
  },
  {
   "cell_type": "code",
   "execution_count": null,
   "metadata": {},
   "outputs": [],
   "source": []
  }
 ],
 "metadata": {
  "application/vnd.databricks.v1+notebook": {
   "dashboards": [],
   "language": "python",
   "notebookMetadata": {
    "pythonIndentUnit": 2,
    "widgetLayout": [
     {
      "breakBefore": false,
      "name": "X123",
      "width": 212
     },
     {
      "breakBefore": false,
      "name": "test",
      "width": 212
     }
    ]
   },
   "notebookName": "BigDataProject_Databricks",
   "notebookOrigID": 1498228108364897,
   "widgets": {
    "names": {
     "currentValue": "Liga concertooo",
     "nuid": "e2974c20-1c89-4a7d-b936-5c58e5041acc",
     "widgetInfo": {
      "defaultValue": "Nuove hit",
      "label": "Choose a playlist for user vulgs3g7788xjy1yu1plzoart",
      "name": "names",
      "options": {
       "choices": [
        "Nuove hit",
        "Non lo so",
        "4",
        "Marco",
        "Moro",
        "Aielloooo",
        "Liga concertooo",
        "T",
        "Bp",
        "Sist"
       ],
       "widgetType": "dropdown"
      },
      "widgetType": "dropdown"
     }
    }
   }
  },
  "kernelspec": {
   "display_name": "Python 3",
   "language": "python",
   "name": "python3"
  },
  "language_info": {
   "codemirror_mode": {
    "name": "ipython",
    "version": 3
   },
   "file_extension": ".py",
   "mimetype": "text/x-python",
   "name": "python",
   "nbconvert_exporter": "python",
   "pygments_lexer": "ipython3",
   "version": "3.8.8"
  }
 },
 "nbformat": 4,
 "nbformat_minor": 1
}
