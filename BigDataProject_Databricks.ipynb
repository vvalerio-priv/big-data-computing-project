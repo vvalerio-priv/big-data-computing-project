{
 "cells": [
  {
   "cell_type": "markdown",
   "metadata": {
    "application/vnd.databricks.v1+cell": {
     "inputWidgets": {},
     "nuid": "c80169f3-71e3-4609-ac16-741f6146d378",
     "showTitle": false,
     "title": ""
    }
   },
   "source": [
    "https://app.diagrams.net/#G1kOLxSIqMuavf4peNEdkWelzKj6Rcp3nl"
   ]
  },
  {
   "cell_type": "markdown",
   "metadata": {
    "application/vnd.databricks.v1+cell": {
     "inputWidgets": {},
     "nuid": "528bdd80-57a0-43f1-b018-e1af2d06feda",
     "showTitle": false,
     "title": ""
    }
   },
   "source": [
    "# Install requirements"
   ]
  },
  {
   "cell_type": "code",
   "execution_count": 9,
   "metadata": {
    "application/vnd.databricks.v1+cell": {
     "inputWidgets": {},
     "nuid": "8e445ea0-b416-4239-9659-ac30bf89ebc7",
     "showTitle": false,
     "title": ""
    }
   },
   "outputs": [
    {
     "name": "stdout",
     "output_type": "stream",
     "text": [
      "Requirement already satisfied: pip in /home/valerio/anaconda3/lib/python3.8/site-packages (21.2.4)\n",
      "Requirement already satisfied: spotipy in /home/valerio/anaconda3/lib/python3.8/site-packages (2.19.0)\n",
      "Requirement already satisfied: urllib3>=1.26.0 in /home/valerio/anaconda3/lib/python3.8/site-packages (from spotipy) (1.26.4)\n",
      "Requirement already satisfied: six>=1.15.0 in /home/valerio/anaconda3/lib/python3.8/site-packages (from spotipy) (1.15.0)\n",
      "Requirement already satisfied: requests>=2.25.0 in /home/valerio/anaconda3/lib/python3.8/site-packages (from spotipy) (2.25.1)\n",
      "Requirement already satisfied: idna<3,>=2.5 in /home/valerio/anaconda3/lib/python3.8/site-packages (from requests>=2.25.0->spotipy) (2.10)\n",
      "Requirement already satisfied: chardet<5,>=3.0.2 in /home/valerio/anaconda3/lib/python3.8/site-packages (from requests>=2.25.0->spotipy) (4.0.0)\n",
      "Requirement already satisfied: certifi>=2017.4.17 in /home/valerio/anaconda3/lib/python3.8/site-packages (from requests>=2.25.0->spotipy) (2020.12.5)\n",
      "Requirement already satisfied: ipywidgets in /home/valerio/.local/lib/python3.8/site-packages (7.6.3)\n",
      "Requirement already satisfied: widgetsnbextension~=3.5.0 in /home/valerio/.local/lib/python3.8/site-packages (from ipywidgets) (3.5.1)\n",
      "Requirement already satisfied: ipython>=4.0.0 in /home/valerio/anaconda3/lib/python3.8/site-packages (from ipywidgets) (7.23.1)\n",
      "Requirement already satisfied: ipykernel>=4.5.1 in /home/valerio/anaconda3/lib/python3.8/site-packages (from ipywidgets) (5.5.5)\n",
      "Requirement already satisfied: nbformat>=4.2.0 in /home/valerio/.local/lib/python3.8/site-packages (from ipywidgets) (5.1.3)\n",
      "Requirement already satisfied: traitlets>=4.3.1 in /home/valerio/.local/lib/python3.8/site-packages (from ipywidgets) (5.0.5)\n",
      "Requirement already satisfied: jupyterlab-widgets>=1.0.0 in /home/valerio/.local/lib/python3.8/site-packages (from ipywidgets) (1.0.0)\n",
      "Requirement already satisfied: tornado>=4.2 in /home/valerio/anaconda3/lib/python3.8/site-packages (from ipykernel>=4.5.1->ipywidgets) (6.1)\n",
      "Requirement already satisfied: jupyter-client in /home/valerio/.local/lib/python3.8/site-packages (from ipykernel>=4.5.1->ipywidgets) (6.1.12)\n",
      "Requirement already satisfied: prompt-toolkit!=3.0.0,!=3.0.1,<3.1.0,>=2.0.0 in /home/valerio/.local/lib/python3.8/site-packages (from ipython>=4.0.0->ipywidgets) (3.0.18)\n",
      "Requirement already satisfied: pickleshare in /home/valerio/.local/lib/python3.8/site-packages (from ipython>=4.0.0->ipywidgets) (0.7.5)\n",
      "Requirement already satisfied: backcall in /home/valerio/.local/lib/python3.8/site-packages (from ipython>=4.0.0->ipywidgets) (0.2.0)\n",
      "Requirement already satisfied: pexpect>4.3 in /home/valerio/anaconda3/lib/python3.8/site-packages (from ipython>=4.0.0->ipywidgets) (4.8.0)\n",
      "Requirement already satisfied: pygments in /home/valerio/anaconda3/lib/python3.8/site-packages (from ipython>=4.0.0->ipywidgets) (2.9.0)\n",
      "Requirement already satisfied: jedi>=0.16 in /home/valerio/anaconda3/lib/python3.8/site-packages (from ipython>=4.0.0->ipywidgets) (0.17.2)\n",
      "Requirement already satisfied: setuptools>=18.5 in /home/valerio/anaconda3/lib/python3.8/site-packages (from ipython>=4.0.0->ipywidgets) (56.2.0)\n",
      "Requirement already satisfied: matplotlib-inline in /home/valerio/anaconda3/lib/python3.8/site-packages (from ipython>=4.0.0->ipywidgets) (0.1.2)\n",
      "Requirement already satisfied: decorator in /home/valerio/anaconda3/lib/python3.8/site-packages (from ipython>=4.0.0->ipywidgets) (4.4.2)\n",
      "Requirement already satisfied: parso<0.8.0,>=0.7.0 in /home/valerio/anaconda3/lib/python3.8/site-packages (from jedi>=0.16->ipython>=4.0.0->ipywidgets) (0.7.0)\n",
      "Requirement already satisfied: ipython-genutils in /home/valerio/.local/lib/python3.8/site-packages (from nbformat>=4.2.0->ipywidgets) (0.2.0)\n",
      "Requirement already satisfied: jsonschema!=2.5.0,>=2.4 in /home/valerio/anaconda3/lib/python3.8/site-packages (from nbformat>=4.2.0->ipywidgets) (3.2.0)\n",
      "Requirement already satisfied: jupyter-core in /home/valerio/.local/lib/python3.8/site-packages (from nbformat>=4.2.0->ipywidgets) (4.7.1)\n",
      "Requirement already satisfied: pyrsistent>=0.14.0 in /home/valerio/anaconda3/lib/python3.8/site-packages (from jsonschema!=2.5.0,>=2.4->nbformat>=4.2.0->ipywidgets) (0.17.3)\n",
      "Requirement already satisfied: six>=1.11.0 in /home/valerio/anaconda3/lib/python3.8/site-packages (from jsonschema!=2.5.0,>=2.4->nbformat>=4.2.0->ipywidgets) (1.15.0)\n",
      "Requirement already satisfied: attrs>=17.4.0 in /home/valerio/anaconda3/lib/python3.8/site-packages (from jsonschema!=2.5.0,>=2.4->nbformat>=4.2.0->ipywidgets) (21.2.0)\n",
      "Requirement already satisfied: ptyprocess>=0.5 in /home/valerio/.local/lib/python3.8/site-packages (from pexpect>4.3->ipython>=4.0.0->ipywidgets) (0.7.0)\n",
      "Requirement already satisfied: wcwidth in /home/valerio/.local/lib/python3.8/site-packages (from prompt-toolkit!=3.0.0,!=3.0.1,<3.1.0,>=2.0.0->ipython>=4.0.0->ipywidgets) (0.2.5)\n",
      "Requirement already satisfied: notebook>=4.4.1 in /home/valerio/anaconda3/lib/python3.8/site-packages (from widgetsnbextension~=3.5.0->ipywidgets) (6.4.0)\n",
      "Requirement already satisfied: argon2-cffi in /home/valerio/.local/lib/python3.8/site-packages (from notebook>=4.4.1->widgetsnbextension~=3.5.0->ipywidgets) (20.1.0)\n",
      "Requirement already satisfied: nbconvert in /home/valerio/anaconda3/lib/python3.8/site-packages (from notebook>=4.4.1->widgetsnbextension~=3.5.0->ipywidgets) (6.0.7)\n",
      "Requirement already satisfied: Send2Trash>=1.5.0 in /home/valerio/.local/lib/python3.8/site-packages (from notebook>=4.4.1->widgetsnbextension~=3.5.0->ipywidgets) (1.5.0)\n",
      "Requirement already satisfied: terminado>=0.8.3 in /home/valerio/anaconda3/lib/python3.8/site-packages (from notebook>=4.4.1->widgetsnbextension~=3.5.0->ipywidgets) (0.10.0)\n",
      "Requirement already satisfied: jinja2 in /home/valerio/anaconda3/lib/python3.8/site-packages (from notebook>=4.4.1->widgetsnbextension~=3.5.0->ipywidgets) (3.0.1)\n",
      "Requirement already satisfied: prometheus-client in /home/valerio/.local/lib/python3.8/site-packages (from notebook>=4.4.1->widgetsnbextension~=3.5.0->ipywidgets) (0.10.1)\n",
      "Requirement already satisfied: pyzmq>=17 in /home/valerio/.local/lib/python3.8/site-packages (from notebook>=4.4.1->widgetsnbextension~=3.5.0->ipywidgets) (22.0.3)\n",
      "Requirement already satisfied: python-dateutil>=2.1 in /home/valerio/anaconda3/lib/python3.8/site-packages (from jupyter-client->ipykernel>=4.5.1->ipywidgets) (2.8.1)\n",
      "Requirement already satisfied: cffi>=1.0.0 in /home/valerio/.local/lib/python3.8/site-packages (from argon2-cffi->notebook>=4.4.1->widgetsnbextension~=3.5.0->ipywidgets) (1.14.5)\n",
      "Requirement already satisfied: pycparser in /home/valerio/.local/lib/python3.8/site-packages (from cffi>=1.0.0->argon2-cffi->notebook>=4.4.1->widgetsnbextension~=3.5.0->ipywidgets) (2.20)\n",
      "Requirement already satisfied: MarkupSafe>=2.0 in /home/valerio/anaconda3/lib/python3.8/site-packages (from jinja2->notebook>=4.4.1->widgetsnbextension~=3.5.0->ipywidgets) (2.0.1)\n",
      "Requirement already satisfied: jupyterlab-pygments in /home/valerio/.local/lib/python3.8/site-packages (from nbconvert->notebook>=4.4.1->widgetsnbextension~=3.5.0->ipywidgets) (0.1.2)\n",
      "Requirement already satisfied: pandocfilters>=1.4.1 in /home/valerio/.local/lib/python3.8/site-packages (from nbconvert->notebook>=4.4.1->widgetsnbextension~=3.5.0->ipywidgets) (1.4.3)\n",
      "Requirement already satisfied: mistune<2,>=0.8.1 in /home/valerio/.local/lib/python3.8/site-packages (from nbconvert->notebook>=4.4.1->widgetsnbextension~=3.5.0->ipywidgets) (0.8.4)\n",
      "Requirement already satisfied: testpath in /home/valerio/anaconda3/lib/python3.8/site-packages (from nbconvert->notebook>=4.4.1->widgetsnbextension~=3.5.0->ipywidgets) (0.5.0)\n",
      "Requirement already satisfied: defusedxml in /home/valerio/.local/lib/python3.8/site-packages (from nbconvert->notebook>=4.4.1->widgetsnbextension~=3.5.0->ipywidgets) (0.7.1)\n",
      "Requirement already satisfied: entrypoints>=0.2.2 in /home/valerio/.local/lib/python3.8/site-packages (from nbconvert->notebook>=4.4.1->widgetsnbextension~=3.5.0->ipywidgets) (0.3)\n",
      "Requirement already satisfied: nbclient<0.6.0,>=0.5.0 in /home/valerio/.local/lib/python3.8/site-packages (from nbconvert->notebook>=4.4.1->widgetsnbextension~=3.5.0->ipywidgets) (0.5.3)\n",
      "Requirement already satisfied: bleach in /home/valerio/.local/lib/python3.8/site-packages (from nbconvert->notebook>=4.4.1->widgetsnbextension~=3.5.0->ipywidgets) (3.3.0)\n",
      "Requirement already satisfied: nest-asyncio in /home/valerio/.local/lib/python3.8/site-packages (from nbclient<0.6.0,>=0.5.0->nbconvert->notebook>=4.4.1->widgetsnbextension~=3.5.0->ipywidgets) (1.5.1)\n",
      "Requirement already satisfied: async-generator in /home/valerio/.local/lib/python3.8/site-packages (from nbclient<0.6.0,>=0.5.0->nbconvert->notebook>=4.4.1->widgetsnbextension~=3.5.0->ipywidgets) (1.10)\n",
      "Requirement already satisfied: webencodings in /home/valerio/.local/lib/python3.8/site-packages (from bleach->nbconvert->notebook>=4.4.1->widgetsnbextension~=3.5.0->ipywidgets) (0.5.1)\n",
      "Requirement already satisfied: packaging in /home/valerio/.local/lib/python3.8/site-packages (from bleach->nbconvert->notebook>=4.4.1->widgetsnbextension~=3.5.0->ipywidgets) (20.9)\n"
     ]
    },
    {
     "name": "stdout",
     "output_type": "stream",
     "text": [
      "Requirement already satisfied: pyparsing>=2.0.2 in /home/valerio/.local/lib/python3.8/site-packages (from packaging->bleach->nbconvert->notebook>=4.4.1->widgetsnbextension~=3.5.0->ipywidgets) (2.4.7)\n",
      "Requirement already satisfied: lyricsgenius in /home/valerio/anaconda3/lib/python3.8/site-packages (3.0.1)\n",
      "Requirement already satisfied: requests>=2.20.0 in /home/valerio/anaconda3/lib/python3.8/site-packages (from lyricsgenius) (2.25.1)\n",
      "Requirement already satisfied: beautifulsoup4>=4.6.0 in /home/valerio/anaconda3/lib/python3.8/site-packages (from lyricsgenius) (4.9.3)\n",
      "Requirement already satisfied: soupsieve>1.2 in /home/valerio/anaconda3/lib/python3.8/site-packages (from beautifulsoup4>=4.6.0->lyricsgenius) (2.2.1)\n",
      "Requirement already satisfied: certifi>=2017.4.17 in /home/valerio/anaconda3/lib/python3.8/site-packages (from requests>=2.20.0->lyricsgenius) (2020.12.5)\n",
      "Requirement already satisfied: idna<3,>=2.5 in /home/valerio/anaconda3/lib/python3.8/site-packages (from requests>=2.20.0->lyricsgenius) (2.10)\n",
      "Requirement already satisfied: chardet<5,>=3.0.2 in /home/valerio/anaconda3/lib/python3.8/site-packages (from requests>=2.20.0->lyricsgenius) (4.0.0)\n",
      "Requirement already satisfied: urllib3<1.27,>=1.21.1 in /home/valerio/anaconda3/lib/python3.8/site-packages (from requests>=2.20.0->lyricsgenius) (1.26.4)\n",
      "Requirement already satisfied: NRCLex in /home/valerio/anaconda3/lib/python3.8/site-packages (3.0.0)\n",
      "Requirement already satisfied: textblob in /home/valerio/anaconda3/lib/python3.8/site-packages (from NRCLex) (0.15.3)\n",
      "Requirement already satisfied: nltk>=3.1 in /home/valerio/anaconda3/lib/python3.8/site-packages (from textblob->NRCLex) (3.6.2)\n",
      "Requirement already satisfied: click in /home/valerio/anaconda3/lib/python3.8/site-packages (from nltk>=3.1->textblob->NRCLex) (8.0.1)\n",
      "Requirement already satisfied: tqdm in /home/valerio/.local/lib/python3.8/site-packages (from nltk>=3.1->textblob->NRCLex) (4.60.0)\n",
      "Requirement already satisfied: joblib in /home/valerio/.local/lib/python3.8/site-packages (from nltk>=3.1->textblob->NRCLex) (1.0.1)\n",
      "Requirement already satisfied: regex in /home/valerio/anaconda3/lib/python3.8/site-packages (from nltk>=3.1->textblob->NRCLex) (2021.4.4)\n"
     ]
    }
   ],
   "source": [
    "import sys\n",
    "import os\n",
    "\n",
    "!{sys.executable} -m pip install --upgrade pip\n",
    "!{sys.executable} -m pip install spotipy\n",
    "!{sys.executable} -m pip install ipywidgets\n",
    "!{sys.executable} -m pip install lyricsgenius\n",
    "!{sys.executable} -m pip install NRCLex\n",
    "\n",
    "isDatabricks = False"
   ]
  },
  {
   "cell_type": "markdown",
   "metadata": {},
   "source": [
    "# Imports"
   ]
  },
  {
   "cell_type": "code",
   "execution_count": 10,
   "metadata": {},
   "outputs": [
    {
     "name": "stderr",
     "output_type": "stream",
     "text": [
      "[nltk_data] Downloading package punkt to /home/valerio/nltk_data...\n",
      "[nltk_data]   Package punkt is already up-to-date!\n",
      "[nltk_data] Downloading package stopwords to\n",
      "[nltk_data]     /home/valerio/nltk_data...\n",
      "[nltk_data]   Package stopwords is already up-to-date!\n",
      "[nltk_data] Downloading package wordnet to /home/valerio/nltk_data...\n",
      "[nltk_data]   Package wordnet is already up-to-date!\n"
     ]
    }
   ],
   "source": [
    "from pyspark.sql import SparkSession\n",
    "from pyspark import SparkContext, SparkConf, SQLContext\n",
    "from pyspark.ml.feature import VectorAssembler\n",
    "from pyspark.ml.clustering import KMeans\n",
    "from pyspark.ml.evaluation import ClusteringEvaluator\n",
    "from pyspark.ml.feature import StandardScaler\n",
    "\n",
    "import spotipy\n",
    "from spotipy.oauth2 import SpotifyClientCredentials\n",
    "from spotipy.oauth2 import SpotifyOAuth\n",
    "import spotipy.util as util\n",
    "\n",
    "import multiprocessing\n",
    "from multiprocessing import Pool\n",
    "from threading import Thread\n",
    "import pandas as pd\n",
    "import numpy as np\n",
    "import requests\n",
    "from urllib import request as urllib2\n",
    "import json\n",
    "from bs4 import BeautifulSoup\n",
    "import re\n",
    "import string\n",
    "\n",
    "\n",
    "import lyricsgenius\n",
    "from nrclex import NRCLex\n",
    "import nltk\n",
    "nltk.download('punkt')\n",
    "nltk.download('stopwords')\n",
    "from nltk.corpus import stopwords\n",
    "nltk.download('wordnet')\n",
    "from nltk.stem import WordNetLemmatizer\n",
    "\n",
    "from sklearn.metrics.pairwise import cosine_similarity\n",
    "\n",
    "import ipywidgets as widgets\n",
    "from ipywidgets import interact, interact_manual\n",
    "\n",
    "import uuid\n",
    "import time"
   ]
  },
  {
   "cell_type": "markdown",
   "metadata": {
    "application/vnd.databricks.v1+cell": {
     "inputWidgets": {},
     "nuid": "700b66f9-c614-4ae9-b820-c223475740f4",
     "showTitle": false,
     "title": ""
    }
   },
   "source": [
    "# Spotify connection"
   ]
  },
  {
   "cell_type": "code",
   "execution_count": 11,
   "metadata": {
    "application/vnd.databricks.v1+cell": {
     "inputWidgets": {},
     "nuid": "fb9278a2-7c8c-4ea4-b688-1a45a7747332",
     "showTitle": false,
     "title": ""
    }
   },
   "outputs": [],
   "source": [
    "os.environ[\"SPOTIPY_CLIENT_ID\"] = \"9434b51d2fde473384c68c79130534f1\"\n",
    "os.environ[\"SPOTIPY_CLIENT_SECRET\"] = \"1bde23439629452e94212f78a3eb3d59\"\n",
    "os.environ[\"SPOTIPY_REDIRECT_URI\"] = \"https://developer.spotify.com/dashboard/applications/d65504514c0e40ef9c74cbfa0d1be767\"\n",
    "os.environ[\"SPOTIPY_CLIENT_USERNAME\"] = \"11154156130\"\n",
    "os.environ['PYSPARK_PYTHON']=sys.executable"
   ]
  },
  {
   "cell_type": "code",
   "execution_count": 12,
   "metadata": {},
   "outputs": [
    {
     "name": "stdout",
     "output_type": "stream",
     "text": [
      "BQASUQn4__vvC1pKdalKxtJ2A3m34NDyBp59GU-SFcajyPXFz64hqiHmeGg5ESvwwK5f41jvNskt5k4riDZYfCtsShI_K63uy2T-SfmSztZ52sUycfaGagI0GvB_Heoznv6v6JP6-tqJIuqkRILY3O3x7L0R7JHZX-vKZGjJLOkSswvv7vzufwn54x5h2SNlNgBpRmtEcRrXP8vnw_iwturDCDXoJw\n"
     ]
    }
   ],
   "source": [
    "\n",
    "client_id = \"d65504514c0e40ef9c74cbfa0d1be767\"\n",
    "client_secret = \"64ff22636db44b68992ef49b1c9eaaf4\"\n",
    "username = \"11154156130\"\n",
    "\n",
    "scope = \"playlist-modify-public playlist-modify-private playlist-read-private playlist-read-collaborative\"\n",
    "redirect_uri = \"https://developer.spotify.com/dashboard/applications/9434b51d2fde473384c68c79130534f1\"\n",
    "client_credentials_manager = SpotifyClientCredentials(client_id=client_id, client_secret=client_secret)\n",
    "\n",
    "sp = spotipy.Spotify(client_credentials_manager = client_credentials_manager)\n",
    "\n",
    "token = util.prompt_for_user_token(username, scope, client_id, client_secret, redirect_uri)\n",
    "print(token)\n",
    "if token:\n",
    "    sp = spotipy.Spotify(auth=token)\n",
    "else:\n",
    "    print(\"Can't get token for\", username)"
   ]
  },
  {
   "cell_type": "markdown",
   "metadata": {
    "application/vnd.databricks.v1+cell": {
     "inputWidgets": {},
     "nuid": "bd2521e0-2a44-42f9-93be-2644c28c5285",
     "showTitle": false,
     "title": ""
    }
   },
   "source": [
    "# Spark initialization"
   ]
  },
  {
   "cell_type": "code",
   "execution_count": 13,
   "metadata": {
    "application/vnd.databricks.v1+cell": {
     "inputWidgets": {},
     "nuid": "3f1aab2e-27c9-47b0-b388-3d1c7ab19a9b",
     "showTitle": false,
     "title": ""
    }
   },
   "outputs": [],
   "source": [
    "spark = SparkSession.builder.appName(\"BigData Project\").getOrCreate()\n",
    "sqlcontext = SQLContext(spark)"
   ]
  },
  {
   "cell_type": "code",
   "execution_count": 14,
   "metadata": {
    "application/vnd.databricks.v1+cell": {
     "inputWidgets": {},
     "nuid": "1f29971f-1c78-422b-b7e8-5387fb9ee1d6",
     "showTitle": false,
     "title": ""
    }
   },
   "outputs": [
    {
     "data": {
      "text/html": [
       "\n",
       "            <div>\n",
       "                <p><b>SparkSession - in-memory</b></p>\n",
       "                \n",
       "        <div>\n",
       "            <p><b>SparkContext</b></p>\n",
       "\n",
       "            <p><a href=\"http://valerio.home:4040\">Spark UI</a></p>\n",
       "\n",
       "            <dl>\n",
       "              <dt>Version</dt>\n",
       "                <dd><code>v3.1.1</code></dd>\n",
       "              <dt>Master</dt>\n",
       "                <dd><code>local[*]</code></dd>\n",
       "              <dt>AppName</dt>\n",
       "                <dd><code>BigData Project</code></dd>\n",
       "            </dl>\n",
       "        </div>\n",
       "        \n",
       "            </div>\n",
       "        "
      ],
      "text/plain": [
       "<pyspark.sql.session.SparkSession at 0x7fe5c58942b0>"
      ]
     },
     "execution_count": 14,
     "metadata": {},
     "output_type": "execute_result"
    }
   ],
   "source": [
    "spark"
   ]
  },
  {
   "cell_type": "markdown",
   "metadata": {
    "application/vnd.databricks.v1+cell": {
     "inputWidgets": {},
     "nuid": "7057cb43-6eb9-4b58-a509-df97701c0fcf",
     "showTitle": false,
     "title": ""
    }
   },
   "source": [
    "# Grab spotify playlists and collect tracks information"
   ]
  },
  {
   "cell_type": "markdown",
   "metadata": {},
   "source": [
    "### Functions and variables"
   ]
  },
  {
   "cell_type": "code",
   "execution_count": 15,
   "metadata": {},
   "outputs": [],
   "source": [
    "ids = []\n",
    "tracks = []\n",
    "\n",
    "\n",
    "def getTrackIDs(user, playlist_id):\n",
    "    playlist = sp.user_playlist(user, playlist_id)\n",
    "    for item in playlist['tracks']['items'][:20]: #[:50]:\n",
    "        track = item['track']\n",
    "        if track is not None:\n",
    "            ids.append(track['id'])\n",
    "    return ids\n",
    "\n",
    "def getSpotifyTrackIDs(playlist_id):\n",
    "    return getTrackIDs('spotify', playlist_id)\n",
    "\n",
    "def getTrackFeatures(id):\n",
    "    time.sleep(3)\n",
    "    meta = sp.track(id)\n",
    "    features = sp.audio_features(id)\n",
    "    \n",
    "    trackid = id\n",
    "    \n",
    "    # meta\n",
    "    name = meta['name']\n",
    "    album = meta['album']['name']\n",
    "    artist = meta['album']['artists'][0]['name']\n",
    "    release_date = meta['album']['release_date']\n",
    "    length = meta['duration_ms']\n",
    "    popularity = meta['popularity']\n",
    "\n",
    "    # features\n",
    "    acousticness = features[0]['acousticness']\n",
    "    danceability = features[0]['danceability']\n",
    "    energy = features[0]['energy']\n",
    "    instrumentalness = features[0]['instrumentalness']\n",
    "    liveness = features[0]['liveness']\n",
    "    loudness = features[0]['loudness']\n",
    "    speechiness = features[0]['speechiness']\n",
    "    tempo = features[0]['tempo']\n",
    "    time_signature = features[0]['time_signature']\n",
    "\n",
    "    track = [trackid, name, album, artist, release_date, length, popularity, danceability, acousticness, energy, instrumentalness, liveness, loudness, speechiness, tempo, time_signature]\n",
    "    \n",
    "    return track\n",
    "\n",
    "def runChunk(thread,toCalcIds):\n",
    "    time.sleep(3)\n",
    "    for i in range(len(toCalcIds)):\n",
    "        print(\"Thread: \"+str(thread)+\" processing Track Number: \"+str(i)+\" total: \"+str(len(toCalcIds)))\n",
    "        try: \n",
    "            track = getTrackFeatures(toCalcIds[i])\n",
    "            tracks.append(track)\n",
    "        except:\n",
    "            pass\n",
    "        \n",
    "def storeDataframeOnFile(filename, df):\n",
    "    if isDatabricks :\n",
    "        %fs rm -r '/FileStore/tables/'+filename+'.csv'\n",
    "        dbutils.fs.rm(\"/FileStore/tables/\"+filename+\".csv\")\n",
    "        df.write.format('com.databricks.spark.csv').option('header', 'true').save('dbfs:/FileStore/tables/'+filename+'.csv')\n",
    "    else:\n",
    "        df.write.format(\"com.databricks.spark.csv\").option('header', 'true').save(filename+'.csv')\n",
    "        \n",
    "def loadDataframeFromFile(filename):\n",
    "    if isDatabricks :\n",
    "        df = sqlcontext.read.load('dbfs:/FileStore/tables/'+filename+'.csv', format='csv', header=True, inferSchema=True)\n",
    "    else:\n",
    "        df = sqlcontext.read.load(filename+'.csv', format='csv', header=True, inferSchema=True)\n",
    "    return df"
   ]
  },
  {
   "cell_type": "markdown",
   "metadata": {},
   "source": [
    "### Logic"
   ]
  },
  {
   "cell_type": "code",
   "execution_count": null,
   "metadata": {
    "application/vnd.databricks.v1+cell": {
     "inputWidgets": {},
     "nuid": "565c5462-a863-4bc5-8fbb-dfcc896ac2cb",
     "showTitle": false,
     "title": ""
    }
   },
   "outputs": [],
   "source": [
    "# Load spotify playlists\n",
    "\n",
    "playlists = sp.user_playlists('spotify')\n",
    "print(len(playlists))\n",
    "\n",
    "playlist_ids = []\n",
    "while playlists:\n",
    "    for i, playlist in enumerate(playlists['items']):\n",
    "        playlist_ids.append(playlist['id'])\n",
    "    if playlists['next']:\n",
    "        playlists = sp.next(playlists)\n",
    "    else:\n",
    "        playlists = None"
   ]
  },
  {
   "cell_type": "code",
   "execution_count": null,
   "metadata": {
    "application/vnd.databricks.v1+cell": {
     "inputWidgets": {},
     "nuid": "def90059-aaa6-4880-82c2-b4768ddbe24d",
     "showTitle": false,
     "title": ""
    }
   },
   "outputs": [],
   "source": [
    "# get tracks from spotify playlists\n",
    "\n",
    "for i in playlist_ids:\n",
    "    ids = getTrackIDs('spotify', i) #playlist"
   ]
  },
  {
   "cell_type": "code",
   "execution_count": null,
   "metadata": {
    "application/vnd.databricks.v1+cell": {
     "inputWidgets": {},
     "nuid": "72c2a613-e5e5-40fc-80c1-e1f6acaa84ae",
     "showTitle": false,
     "title": ""
    }
   },
   "outputs": [],
   "source": [
    "# number of tracks\n",
    "\n",
    "print(len(ids))"
   ]
  },
  {
   "cell_type": "code",
   "execution_count": null,
   "metadata": {
    "application/vnd.databricks.v1+cell": {
     "inputWidgets": {},
     "nuid": "13a37aa0-6e5e-4b1c-84d7-795f03bb1b5c",
     "showTitle": false,
     "title": ""
    }
   },
   "outputs": [],
   "source": [
    "# loop over track ids to get audio features for each track\n",
    "\n",
    "toCalcIds = ids[:5000]\n",
    "\n",
    "runChunk(0,toCalcIds)\n",
    "\n",
    "#chunks = np.array_split(toCalcIds, 10)\n",
    "#print(len(chunks))\n",
    "\n",
    "#try:\n",
    "#    threads = list()\n",
    "#    for index in range(10):\n",
    "#        print(\"Main    : create and start thread \"+str(index))\n",
    "#        x = Thread(target=runChunk, args=(index,chunks[index]))\n",
    "#        threads.append(x)\n",
    "#        x.start()\n",
    "#        \n",
    "#    for index, thread in enumerate(threads):\n",
    "#        print(\"Main    : before joining thread \"+str(index))\n",
    "#        thread.join()\n",
    "#        print(\"Main    : thread done \"+str(index))\n",
    "#except:\n",
    "#    print(\"Error: unable to start thread\")\n",
    "#\n",
    "#while 1:\n",
    "#    pass"
   ]
  },
  {
   "cell_type": "code",
   "execution_count": null,
   "metadata": {
    "application/vnd.databricks.v1+cell": {
     "inputWidgets": {},
     "nuid": "d653699a-8f13-42f5-bce1-a35a046192c9",
     "showTitle": false,
     "title": ""
    }
   },
   "outputs": [],
   "source": [
    "# create dataset\n",
    "df = pd.DataFrame(tracks, columns = ['trackid', 'name', 'album', 'artist', 'release_date', 'length', 'popularity', 'danceability', 'acousticness', 'energy', 'instrumentalness', 'liveness', 'loudness', 'speechiness', 'tempo', 'time_signature'])"
   ]
  },
  {
   "cell_type": "code",
   "execution_count": null,
   "metadata": {
    "application/vnd.databricks.v1+cell": {
     "inputWidgets": {},
     "nuid": "0dbd3878-6dc6-4308-96e1-3b60c5f3fee3",
     "showTitle": false,
     "title": ""
    }
   },
   "outputs": [],
   "source": [
    "df = spark.createDataFrame(df)"
   ]
  },
  {
   "cell_type": "code",
   "execution_count": null,
   "metadata": {
    "application/vnd.databricks.v1+cell": {
     "inputWidgets": {},
     "nuid": "3911fa1f-19c9-4835-8ddc-831d479d6f8b",
     "showTitle": false,
     "title": ""
    }
   },
   "outputs": [],
   "source": [
    "schema = df.printSchema()\n",
    "schema"
   ]
  },
  {
   "cell_type": "code",
   "execution_count": null,
   "metadata": {
    "application/vnd.databricks.v1+cell": {
     "inputWidgets": {},
     "nuid": "71d60d77-634a-44d4-9d4c-f3bb932c1165",
     "showTitle": false,
     "title": ""
    }
   },
   "outputs": [],
   "source": [
    "storeDataframeOnFile('spotify', df)"
   ]
  },
  {
   "cell_type": "code",
   "execution_count": null,
   "metadata": {
    "application/vnd.databricks.v1+cell": {
     "inputWidgets": {},
     "nuid": "2f9b6cf3-0ec8-4548-b7bb-15940b12dbc2",
     "showTitle": false,
     "title": ""
    }
   },
   "outputs": [],
   "source": [
    "df = loadDataframeFromFile('spotify')"
   ]
  },
  {
   "cell_type": "code",
   "execution_count": null,
   "metadata": {
    "application/vnd.databricks.v1+cell": {
     "inputWidgets": {},
     "nuid": "69a2dd61-669b-48f6-83c6-596f1e07c592",
     "showTitle": false,
     "title": ""
    }
   },
   "outputs": [],
   "source": [
    "# create a temporary view in order to use SQL statements\n",
    "df.createOrReplaceTempView(\"songs\")"
   ]
  },
  {
   "cell_type": "code",
   "execution_count": null,
   "metadata": {
    "application/vnd.databricks.v1+cell": {
     "inputWidgets": {},
     "nuid": "30628ef7-c0cf-40bd-8432-bc0804fddcd3",
     "showTitle": false,
     "title": ""
    }
   },
   "outputs": [],
   "source": [
    "spark_dataset = sqlcontext.sql(\"SELECT * FROM songs\")\n",
    "spark_dataset = spark_dataset.dropna()"
   ]
  },
  {
   "cell_type": "markdown",
   "metadata": {
    "application/vnd.databricks.v1+cell": {
     "inputWidgets": {},
     "nuid": "b279c5a8-7734-4d29-b3fe-444c2762fa97",
     "showTitle": false,
     "title": ""
    }
   },
   "source": [
    "# MODEL 1 - K-Means clustering"
   ]
  },
  {
   "cell_type": "code",
   "execution_count": null,
   "metadata": {
    "application/vnd.databricks.v1+cell": {
     "inputWidgets": {},
     "nuid": "ca37a861-e8c2-4cbd-9a80-f1aabeba5cfb",
     "showTitle": false,
     "title": ""
    }
   },
   "outputs": [],
   "source": [
    "features = ['length', 'popularity', 'danceability', 'acousticness', 'energy', 'instrumentalness', 'liveness', 'loudness', 'speechiness', 'tempo', 'time_signature']\n",
    "\n",
    "vecAssembler = VectorAssembler(inputCols=features, outputCol=\"features\")\n",
    "new_df = vecAssembler.transform(spark_dataset)\n",
    "new_df.show(2)"
   ]
  },
  {
   "cell_type": "code",
   "execution_count": null,
   "metadata": {
    "application/vnd.databricks.v1+cell": {
     "inputWidgets": {},
     "nuid": "c69d1578-5ded-4058-813f-7f12a2deab1e",
     "showTitle": false,
     "title": ""
    }
   },
   "outputs": [],
   "source": [
    "\n",
    "scale=StandardScaler(inputCol='features',outputCol='standardized')\n",
    "data_scale=scale.fit(new_df)\n",
    "data_scale_output=data_scale.transform(new_df)\n",
    "data_scale_output.show(2)"
   ]
  },
  {
   "cell_type": "code",
   "execution_count": null,
   "metadata": {
    "application/vnd.databricks.v1+cell": {
     "inputWidgets": {},
     "nuid": "906e0741-f328-4795-a039-919abd082a0e",
     "showTitle": false,
     "title": ""
    }
   },
   "outputs": [],
   "source": [
    "\n",
    "silhouette_score=[]\n",
    "\n",
    "evaluator = ClusteringEvaluator(predictionCol='prediction', featuresCol='standardized', metricName='silhouette', distanceMeasure='squaredEuclidean')\n",
    "\n",
    "for i in range(2,20):\n",
    "    \n",
    "    KMeans_algo=KMeans(featuresCol='standardized', k=i)\n",
    "    \n",
    "    KMeans_fit=KMeans_algo.fit(data_scale_output)\n",
    "    \n",
    "    output=KMeans_fit.transform(data_scale_output)\n",
    "    \n",
    "    score=evaluator.evaluate(output)\n",
    "    \n",
    "    silhouette_score.append(score)\n",
    "    \n",
    "    print(\"Silhouette Score:\",score)"
   ]
  },
  {
   "cell_type": "code",
   "execution_count": null,
   "metadata": {
    "application/vnd.databricks.v1+cell": {
     "inputWidgets": {},
     "nuid": "9e515866-cc2d-426e-8ee9-8aecf8fbf529",
     "showTitle": false,
     "title": ""
    }
   },
   "outputs": [],
   "source": [
    "#Visualizing the silhouette scores in a plot\n",
    "import matplotlib.pyplot as plt\n",
    "fig, ax = plt.subplots(1,1, figsize =(20,20))\n",
    "ax.plot(range(2,20),silhouette_score)\n",
    "ax.set_xlabel('k')\n",
    "ax.set_ylabel('cost')"
   ]
  },
  {
   "cell_type": "code",
   "execution_count": null,
   "metadata": {
    "application/vnd.databricks.v1+cell": {
     "inputWidgets": {},
     "nuid": "ad3a0c1a-0dc0-4275-b0d4-07d969a5a03d",
     "showTitle": false,
     "title": ""
    }
   },
   "outputs": [],
   "source": [
    "mid_index = len(silhouette_score) // 2\n",
    "mid_fit = silhouette_score[mid_index]\n",
    "for i in range(mid_index-4, mid_index+4) :\n",
    "    if mid_fit < silhouette_score[i]:\n",
    "        print(i)\n",
    "        print(mid_index+2)\n",
    "        mid_fit = silhouette_score[i]\n",
    "        mid_index = i\n",
    "\n",
    "print(mid_fit)\n",
    "print(mid_index)"
   ]
  },
  {
   "cell_type": "code",
   "execution_count": null,
   "metadata": {
    "application/vnd.databricks.v1+cell": {
     "inputWidgets": {},
     "nuid": "20a74344-c38b-44f5-bec8-c24cccc8bd6c",
     "showTitle": false,
     "title": ""
    }
   },
   "outputs": [],
   "source": [
    "KMeans_algo=KMeans(featuresCol='standardized', k=mid_index+2)\n",
    "KMeans_fit=KMeans_algo.fit(data_scale_output)\n",
    "output=KMeans_fit.transform(data_scale_output)\n",
    "centers = KMeans_fit.clusterCenters()\n",
    "print(\"Cluster Centers: \")\n",
    "for center in centers:\n",
    "    print(center)"
   ]
  },
  {
   "cell_type": "code",
   "execution_count": null,
   "metadata": {
    "application/vnd.databricks.v1+cell": {
     "inputWidgets": {},
     "nuid": "5cfe5cbb-2f59-4fc1-b09a-bd66efb1852f",
     "showTitle": false,
     "title": ""
    }
   },
   "outputs": [],
   "source": [
    "summary = KMeans_fit.summary\n",
    "print(summary.clusterSizes)"
   ]
  },
  {
   "cell_type": "code",
   "execution_count": null,
   "metadata": {
    "application/vnd.databricks.v1+cell": {
     "inputWidgets": {},
     "nuid": "7cd7d16e-2b27-432b-a86a-195bf4828bd2",
     "showTitle": false,
     "title": ""
    }
   },
   "outputs": [],
   "source": [
    "output.toPandas()"
   ]
  },
  {
   "cell_type": "code",
   "execution_count": null,
   "metadata": {
    "application/vnd.databricks.v1+cell": {
     "inputWidgets": {},
     "nuid": "168710ae-1a7b-4c77-bcef-133e161964ec",
     "showTitle": false,
     "title": ""
    }
   },
   "outputs": [],
   "source": [
    "## Store results in spark\n",
    "\n",
    "kmeansout = output.drop(output.features)\n",
    "kmeansout.show(2)\n",
    "kmeansout.createOrReplaceTempView(\"kmoutput\")"
   ]
  },
  {
   "cell_type": "code",
   "execution_count": null,
   "metadata": {
    "application/vnd.databricks.v1+cell": {
     "inputWidgets": {},
     "nuid": "55ce7b6c-7c35-45d1-9c70-0dd1783be8b4",
     "showTitle": false,
     "title": ""
    },
    "scrolled": true
   },
   "outputs": [],
   "source": [
    "kmoutsql = sqlcontext.sql(\"SELECT * FROM kmoutput\")\n",
    "kmoutsql.toPandas()"
   ]
  },
  {
   "cell_type": "markdown",
   "metadata": {},
   "source": [
    "# MODEL 2 - LYRICS EXTRACTION"
   ]
  },
  {
   "cell_type": "code",
   "execution_count": null,
   "metadata": {},
   "outputs": [],
   "source": [
    "## https://genius.com/api-clients\n",
    "\n",
    "lyrics_subjects = sqlcontext.sql(\"SELECT trackid, name, album, artist FROM songs\")\n",
    "lyrics_subjects.toPandas()"
   ]
  },
  {
   "cell_type": "code",
   "execution_count": null,
   "metadata": {},
   "outputs": [],
   "source": [
    "os.environ['GENIUS_API_TOKEN']=\"ZqmoUelmG7iZBPQx8a1pn7QAWvThQsw2kmKRRivDle9auDcJg7fQYPy_RKx_jC6q\""
   ]
  },
  {
   "cell_type": "code",
   "execution_count": null,
   "metadata": {},
   "outputs": [],
   "source": [
    "genius = lyricsgenius.Genius(os.environ.get(\"GENIUS_API_TOKEN\"))\n",
    "column_names = [\"trackid\", \"fulltext\"]\n",
    "words_df = pd.DataFrame(columns = column_names)\n",
    "\n",
    "#for row in df.rdd.collect():\n",
    "#    count+=1\n",
    "#    print(\"Track number \"+str(count)+\" of \"+str(size))\n",
    "    # Format a request URL for the Genius API\n",
    "    #search_term = row.name+\" \"+row.artist\n",
    "\n",
    "def getText(lyrics):\n",
    "    for language in stopwords.fileids():\n",
    "        stop_words=set(stopwords.words(\"english\")) \n",
    "        text_not_stop = [ word for word in lyrics if word not in stop_words ]\n",
    "    return text_not_stop\n",
    "\n",
    "def retrieveLyrics(song):\n",
    "    lyrics = song.lyrics\n",
    "    lyrics = str(lyrics)\n",
    "    lyrics = re.sub('\\[.*\\]','',lyrics) # Remove [Verse] and [Bridge] stuff\n",
    "    lyrics = re.sub('\\n{2}','',lyrics)  # Remove gaps between verses  \n",
    "    lyrics = re.sub('\\n',' ',lyrics) # Remove single \\n\n",
    "    lyrics = lyrics.translate(str.maketrans('', '', string.punctuation))\n",
    "    lyrics = lyrics.lower()\n",
    "    #lyrics = getText(lyrics) #to test\n",
    "    return lyrics\n",
    "\n",
    "def getWords(row):\n",
    "    time.sleep(3)\n",
    "    artist = genius.search_artist(row.artist, max_songs=1, sort=\"title\")\n",
    "    song = artist.song(row.name)\n",
    "    if song is not None:\n",
    "        #lyrics = song.lyrics\n",
    "        #lyrics = str(lyrics)\n",
    "        #lyrics = re.sub('\\[.*\\]','',lyrics) # Remove [Verse] and [Bridge] stuff\n",
    "        #lyrics = re.sub('\\n{2}','',lyrics)  # Remove gaps between verses  \n",
    "        #lyrics = re.sub('\\n',' ',lyrics) # Remove single \\n\n",
    "        #lyrics = lyrics.translate(str.maketrans('', '', string.punctuation))\n",
    "        #lyrics = lyrics.lower()\n",
    "        #word = lyrics.split()   #tokenizing all the lyrics body into individual words\n",
    "        \n",
    "        #for language in stopwords.fileids():\n",
    "        #    stop_words=set(stopwords.words(\"english\")) \n",
    "        #    text_not_stop = [ word for word in lyrics if word not in stop_words ]\n",
    "        #print(retrieveLyrics(song))\n",
    "        dat = pd.DataFrame.from_dict({'trackid': row.trackid, 'fulltext': [retrieveLyrics(song)] })\n",
    "        return dat\n",
    "    # words_df = words_df.append(words_df2, ignore_index = True)\n",
    "\n",
    "#words_df = words_df.append(results)"
   ]
  },
  {
   "cell_type": "code",
   "execution_count": null,
   "metadata": {},
   "outputs": [],
   "source": [
    "try:\n",
    "    print(multiprocessing.cpu_count()-1)\n",
    "    p = Pool(processes = (multiprocessing.cpu_count() - 1))\n",
    "    words_df = words_df.append(p.map(getWords, df.rdd.collect()[:300]))\n",
    "finally:\n",
    "    p.close()\n",
    "    p.join()"
   ]
  },
  {
   "cell_type": "code",
   "execution_count": null,
   "metadata": {},
   "outputs": [],
   "source": [
    "words_df"
   ]
  },
  {
   "cell_type": "code",
   "execution_count": null,
   "metadata": {},
   "outputs": [],
   "source": [
    "def getEmotions(words_df):\n",
    "    column_names = ['trackid', 'words', 'Positive','Negative','Anger','Anticipation','Disgust','Fear','Joy','Sadness','Surprise','Trust']\n",
    "    emolex_df = pd.DataFrame(columns = column_names)\n",
    "\n",
    "    for index, row in words_df.iterrows():\n",
    "        text = row['fulltext']\n",
    "        text_object = NRCLex(text)\n",
    "\n",
    "        if 'positive' in text_object.raw_emotion_scores.keys() :\n",
    "            positive = text_object.raw_emotion_scores['positive']\n",
    "        else:\n",
    "            positive = 0\n",
    "\n",
    "        if 'negative' in text_object.raw_emotion_scores.keys() :\n",
    "            negative = text_object.raw_emotion_scores['negative']\n",
    "        else:\n",
    "            negative = 0\n",
    "\n",
    "        if 'anger' in text_object.raw_emotion_scores.keys() :\n",
    "            anger = text_object.raw_emotion_scores['anger']\n",
    "        else:\n",
    "            anger = 0\n",
    "\n",
    "        if 'anticipation' in text_object.raw_emotion_scores.keys() :\n",
    "            anticipation = text_object.raw_emotion_scores['anticipation']\n",
    "        else:\n",
    "            anticipation = 0\n",
    "\n",
    "        if 'disgust' in text_object.raw_emotion_scores.keys() :\n",
    "            disgust = text_object.raw_emotion_scores['disgust']\n",
    "        else:\n",
    "            disgust = 0\n",
    "\n",
    "        if 'fear' in text_object.raw_emotion_scores.keys() :\n",
    "            fear = text_object.raw_emotion_scores['fear']\n",
    "        else:\n",
    "            fear = 0\n",
    "\n",
    "        if 'joy' in text_object.raw_emotion_scores.keys() :\n",
    "            joy = text_object.raw_emotion_scores['joy']\n",
    "        else:\n",
    "            joy = 0\n",
    "\n",
    "        if 'sadness' in text_object.raw_emotion_scores.keys() :\n",
    "            sadness = text_object.raw_emotion_scores['sadness']\n",
    "        else:\n",
    "            sadness = 0\n",
    "\n",
    "        if 'surprise' in text_object.raw_emotion_scores.keys() :\n",
    "            surprise = text_object.raw_emotion_scores['surprise']\n",
    "        else:\n",
    "            surprise = 0\n",
    "\n",
    "        if 'trust' in text_object.raw_emotion_scores.keys() :\n",
    "            trust = text_object.raw_emotion_scores['trust']\n",
    "        else:\n",
    "            trust = 0\n",
    "\n",
    "        emolex_df2 = {'trackid': row.trackid, \n",
    "                      'words': text_object.words,\n",
    "                      'Positive': positive,\n",
    "                      'Negative': negative,\n",
    "                      'Anger': anger,\n",
    "                      'Anticipation': anticipation,\n",
    "                      'Disgust': disgust,\n",
    "                      'Fear': fear,\n",
    "                      'Joy': joy,\n",
    "                      'Sadness': sadness,\n",
    "                      'Surprise': surprise,\n",
    "                      'Trust': trust }\n",
    "\n",
    "        emolex_df = emolex_df.append(emolex_df2, ignore_index = True)\n",
    "        \n",
    "    return emolex_df\n"
   ]
  },
  {
   "cell_type": "code",
   "execution_count": null,
   "metadata": {},
   "outputs": [],
   "source": [
    "emolex_df = getEmotions(words_df)"
   ]
  },
  {
   "cell_type": "code",
   "execution_count": null,
   "metadata": {},
   "outputs": [],
   "source": [
    "scores_df=emolex_df[['Positive','Negative','Anger','Anticipation','Disgust','Fear','Joy','Sadness','Surprise','Trust']]\n",
    "cosine_sim=cosine_similarity(scores_df,scores_df)\n",
    "cosine_sim.shape"
   ]
  },
  {
   "cell_type": "code",
   "execution_count": null,
   "metadata": {},
   "outputs": [],
   "source": [
    "cosine_sim[0]"
   ]
  },
  {
   "cell_type": "code",
   "execution_count": null,
   "metadata": {},
   "outputs": [],
   "source": [
    "indices=pd.Series(emolex_df.index, emolex_df['trackid']).drop_duplicates()"
   ]
  },
  {
   "cell_type": "code",
   "execution_count": null,
   "metadata": {},
   "outputs": [],
   "source": [
    "def get_recommendations(title,indices,cosine_sim):\n",
    "    index=indices[title]\n",
    "    sim_scores = list(enumerate(cosine_sim[index]))\n",
    "    sim_scores = sorted(sim_scores, key=lambda x: x[1], reverse=True)\n",
    "    sim_scores = sim_scores[1:11]\n",
    "    song_indices = [i[0] for i in sim_scores]\n",
    "    return emolex_df['trackid'].iloc[song_indices]"
   ]
  },
  {
   "cell_type": "code",
   "execution_count": null,
   "metadata": {},
   "outputs": [],
   "source": [
    "get_recommendations('4fzsfWzRhPawzqhX8Qt9F3',indices,cosine_sim)"
   ]
  },
  {
   "cell_type": "markdown",
   "metadata": {
    "application/vnd.databricks.v1+cell": {
     "inputWidgets": {},
     "nuid": "caeb868a-ee81-46fb-9fe0-e45b13b14760",
     "showTitle": false,
     "title": ""
    }
   },
   "source": [
    "# APPLICATION"
   ]
  },
  {
   "cell_type": "code",
   "execution_count": null,
   "metadata": {
    "application/vnd.databricks.v1+cell": {
     "inputWidgets": {},
     "nuid": "5c470607-054f-44eb-8842-d5bef0019d6e",
     "showTitle": false,
     "title": ""
    }
   },
   "outputs": [],
   "source": [
    "if isDatabricks:\n",
    "    dbutils.widgets.removeAll()"
   ]
  },
  {
   "cell_type": "code",
   "execution_count": null,
   "metadata": {
    "application/vnd.databricks.v1+cell": {
     "inputWidgets": {},
     "nuid": "2ee59862-0fcb-4fd1-9f73-1a50c261ca42",
     "showTitle": false,
     "title": ""
    }
   },
   "outputs": [],
   "source": [
    "class PlayListAndName:\n",
    "    def __init__(self, name, id):\n",
    "        self.name = name\n",
    "        self.id = id"
   ]
  },
  {
   "cell_type": "code",
   "execution_count": null,
   "metadata": {
    "application/vnd.databricks.v1+cell": {
     "inputWidgets": {},
     "nuid": "c0ac9b91-9ff5-48f8-95e4-6c106c7cc9ec",
     "showTitle": false,
     "title": ""
    }
   },
   "outputs": [],
   "source": [
    "myuser = '11154156130'\n",
    "playlists = sp.user_playlists(myuser) #vulgs3g7788xjy1yu1plzoart #11154156130\n",
    "user_playlists_id = []\n",
    "playlists_names = [] \n",
    "for item in playlists['items']:\n",
    "    print(item['id'])\n",
    "    user_playlists_id.append(PlayListAndName(item['name'], item['id']))\n",
    "    playlists_names.append(item['name'])"
   ]
  },
  {
   "cell_type": "code",
   "execution_count": null,
   "metadata": {},
   "outputs": [],
   "source": [
    "result_km = None\n",
    "\n",
    "def calculateKM(name, create_playlist, emotions):\n",
    "    \n",
    "    ### BASIC RECCOMENDATION USING K-MEANS\n",
    "    user_tracks_ids = []\n",
    "    \n",
    "    for plys in user_playlists_id:\n",
    "        if plys.name == name:\n",
    "            playlist = sp.user_playlist(myuser, plys.id)\n",
    "            for item in playlist['tracks']['items']: #[:50]:\n",
    "                track = item['track']\n",
    "                if track is not None:\n",
    "                    user_tracks_ids.append(track['id'])  \n",
    "    user_tracks = []\n",
    "    \n",
    "    for i in range(len(user_tracks_ids)):\n",
    "        sys.stdout.write(\"\\rProcessing Track Number %i\" % i)\n",
    "        sys.stdout.write(\"\\Tracks Number %i\" % len(user_tracks_ids))\n",
    "        sys.stdout.flush()\n",
    "        try:\n",
    "            track = getTrackFeatures(user_tracks_ids[i])\n",
    "            user_tracks.append(track)\n",
    "        except:\n",
    "            pass\n",
    "    print(user_tracks)   \n",
    "    userdf = pd.DataFrame(user_tracks, columns = ['trackid', 'name', 'album', 'artist', 'release_date', 'length', 'popularity', 'danceability', 'acousticness', 'energy', 'instrumentalness', 'liveness', 'loudness', 'speechiness', 'tempo', 'time_signature'])\n",
    "    userdf = spark.createDataFrame(userdf)\n",
    "    userdf.createOrReplaceTempView(myuser+\"songs\")\n",
    "    myuser_spark_dataset = sqlcontext.sql(\"SELECT * FROM \"+myuser+\"songs\")\n",
    "    myuser_spark_dataset = myuser_spark_dataset.dropna()\n",
    "    new_myuser_df = vecAssembler.transform(myuser_spark_dataset)\n",
    "    myuser_data_scale=scale.fit(new_myuser_df)\n",
    "    myuser_data_scale_output=myuser_data_scale.transform(new_myuser_df)\n",
    "    myuser_output=KMeans_fit.transform(myuser_data_scale_output)\n",
    "\n",
    "    recommender_km = myuser_output.select(myuser_output[\"prediction\"]).drop_duplicates()\n",
    "    reccomender_result_km = kmoutsql.join(recommender_km, [\"prediction\"], \"inner\")\n",
    "    result_km = reccomender_result_km.drop_duplicates().sort(reccomender_result_km.popularity.desc()).drop(\"standardized\").limit(15)\n",
    "    \n",
    "    track_list = result_km.select('trackid').collect()\n",
    "    \n",
    "    ## USING LYRICS EMOTION\n",
    "    if emotions :\n",
    "        column_names = [\"trackid\", \"fulltext\"]\n",
    "        user_words_df = pd.DataFrame(columns = column_names)\n",
    "\n",
    "        try:\n",
    "            p = Pool(processes = (multiprocessing.cpu_count() - 1))\n",
    "            user_words_df = user_words_df.append(p.map(getWords, userdf.rdd.collect()))\n",
    "        finally:\n",
    "            p.close()\n",
    "            p.join()\n",
    "            \n",
    "        user_words_df = getEmotions(user_words_df)\n",
    "        user_scores_df=user_words_df[['Positive','Negative','Anger','Anticipation','Disgust','Fear','Joy','Sadness','Surprise','Trust']]\n",
    "        user_cosine_sim=cosine_similarity(user_scores_df,scores_df)\n",
    "        \n",
    "        emotion_tracks = []\n",
    "        for index, row in user_words_df.iterrows():\n",
    "            user_indices=pd.Series(user_words_df.index, user_words_df['trackid']).drop_duplicates()\n",
    "            em = get_recommendations(row['trackid'],user_indices,user_cosine_sim)\n",
    "            print(em.values.tolist())\n",
    "            emotion_tracks.extend(em.values.tolist())\n",
    "    \n",
    "        emotion_tracks_as_set = set(emotion_tracks)\n",
    "        intersection = emotion_tracks_as_set.intersection(track_list)\n",
    "        track_list = list(intersection)\n",
    "    \n",
    "    if len(track_list)==0 and emotions:\n",
    "        track_list = emotion_tracks\n",
    "        \n",
    "    ## CREATE PLAYLIST SECTION\n",
    "    if create_playlist :\n",
    "        x = uuid.uuid1()\n",
    "        playlist_name = \"Generated playlist \"+str(x)+\"for user \"+myuser\n",
    "        playlistid = sp.user_playlist_create(\"11154156130\", playlist_name, public=False, description='Generated playlist from ML Databricks')\n",
    "        tracks_to_add = []\n",
    "        for single_track in track_list :\n",
    "            tracks_to_add.append(single_track)\n",
    "        sp.user_playlist_add_tracks(myuser, playlistid['uri'], tracks_to_add)\n",
    "        \n",
    "    return track_list"
   ]
  },
  {
   "cell_type": "code",
   "execution_count": null,
   "metadata": {},
   "outputs": [],
   "source": [
    "if isDatabricks :\n",
    "    dbutils.widgets.dropdown(\"names\", playlists_names[0], [playlists_names[x] for x in range(len(playlists_names))], \"Choose a playlist for user \"+myuser)\n",
    "else:\n",
    "    user_stats = interact_manual(calculateKM, name=widgets.Dropdown(options=playlists_names), create_playlist=widgets.Dropdown(options=[True, False]), emotions=widgets.Dropdown(options=[True, False]))"
   ]
  },
  {
   "cell_type": "code",
   "execution_count": null,
   "metadata": {
    "application/vnd.databricks.v1+cell": {
     "inputWidgets": {},
     "nuid": "84b098a9-9e1c-40d5-b363-ad347ba05770",
     "showTitle": false,
     "title": ""
    }
   },
   "outputs": [],
   "source": [
    "try:\n",
    "    val = getArgument(\"names\")\n",
    "except:\n",
    "    pass\n",
    "    \n",
    "if isDatabricks:\n",
    "    calculateKM(val)"
   ]
  },
  {
   "cell_type": "code",
   "execution_count": null,
   "metadata": {},
   "outputs": [],
   "source": []
  },
  {
   "cell_type": "code",
   "execution_count": null,
   "metadata": {},
   "outputs": [],
   "source": []
  }
 ],
 "metadata": {
  "application/vnd.databricks.v1+notebook": {
   "dashboards": [],
   "language": "python",
   "notebookMetadata": {
    "pythonIndentUnit": 2,
    "widgetLayout": [
     {
      "breakBefore": false,
      "name": "X123",
      "width": 212
     },
     {
      "breakBefore": false,
      "name": "test",
      "width": 212
     }
    ]
   },
   "notebookName": "BigDataProject_Databricks",
   "notebookOrigID": 1498228108364897,
   "widgets": {
    "names": {
     "currentValue": "Liga concertooo",
     "nuid": "e2974c20-1c89-4a7d-b936-5c58e5041acc",
     "widgetInfo": {
      "defaultValue": "Nuove hit",
      "label": "Choose a playlist for user vulgs3g7788xjy1yu1plzoart",
      "name": "names",
      "options": {
       "choices": [
        "Nuove hit",
        "Non lo so",
        "4",
        "Marco",
        "Moro",
        "Aielloooo",
        "Liga concertooo",
        "T",
        "Bp",
        "Sist"
       ],
       "widgetType": "dropdown"
      },
      "widgetType": "dropdown"
     }
    }
   }
  },
  "kernelspec": {
   "display_name": "Python 3",
   "language": "python",
   "name": "python3"
  },
  "language_info": {
   "codemirror_mode": {
    "name": "ipython",
    "version": 3
   },
   "file_extension": ".py",
   "mimetype": "text/x-python",
   "name": "python",
   "nbconvert_exporter": "python",
   "pygments_lexer": "ipython3",
   "version": "3.8.8"
  }
 },
 "nbformat": 4,
 "nbformat_minor": 1
}
